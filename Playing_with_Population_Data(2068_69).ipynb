{
  "nbformat": 4,
  "nbformat_minor": 0,
  "metadata": {
    "colab": {
      "name": "Playing with Population Data(2068-69).ipynb",
      "version": "0.3.2",
      "provenance": [],
      "collapsed_sections": [],
      "toc_visible": true
    },
    "kernelspec": {
      "name": "python3",
      "display_name": "Python 3"
    }
  },
  "cells": [
    {
      "metadata": {
        "id": "ChU4hYCujqCJ",
        "colab_type": "text"
      },
      "cell_type": "markdown",
      "source": [
        "# Import Required Library"
      ]
    },
    {
      "metadata": {
        "id": "V8VMv8NMjoB-",
        "colab_type": "code",
        "colab": {}
      },
      "cell_type": "code",
      "source": [
        "import numpy as np\n",
        "import pandas as pd\n",
        "import matplotlib.pyplot as plt\n",
        "%matplotlib inline"
      ],
      "execution_count": 0,
      "outputs": []
    },
    {
      "metadata": {
        "id": "Paii7mXaj0vZ",
        "colab_type": "text"
      },
      "cell_type": "markdown",
      "source": [
        "# Open CSV FILE from [here](https://github.com/opennepal/odp-census/blob/master/Population%20by%20sex%20and%20age-group/data.csv)"
      ]
    },
    {
      "metadata": {
        "id": "ayn-MwQAn8Th",
        "colab_type": "text"
      },
      "cell_type": "markdown",
      "source": [
        "If we look at the structure of csv file at given link, all the values are comma separated except the one after Year (AD) column\n",
        "\n",
        "For a quick fix, I fired up my notepad++ and did replace all with regex pattern *(,)\\s+(\\w)*\n",
        "and replace string *\\1\\2*\n",
        "\n"
      ]
    },
    {
      "metadata": {
        "id": "eqL-8TtXkS88",
        "colab_type": "code",
        "colab": {}
      },
      "cell_type": "code",
      "source": [
        "df = pd.read_csv(\"popn_by_age.csv\", sep = \",\")"
      ],
      "execution_count": 0,
      "outputs": []
    },
    {
      "metadata": {
        "id": "P7s-O0o7kX1i",
        "colab_type": "code",
        "colab": {
          "base_uri": "https://localhost:8080/",
          "height": 343
        },
        "outputId": "1c9935ae-8fce-4b56-caaf-5284ae640ec3"
      },
      "cell_type": "code",
      "source": [
        "df.head(10)"
      ],
      "execution_count": 34,
      "outputs": [
        {
          "output_type": "execute_result",
          "data": {
            "text/html": [
              "<div>\n",
              "<style scoped>\n",
              "    .dataframe tbody tr th:only-of-type {\n",
              "        vertical-align: middle;\n",
              "    }\n",
              "\n",
              "    .dataframe tbody tr th {\n",
              "        vertical-align: top;\n",
              "    }\n",
              "\n",
              "    .dataframe thead th {\n",
              "        text-align: right;\n",
              "    }\n",
              "</style>\n",
              "<table border=\"1\" class=\"dataframe\">\n",
              "  <thead>\n",
              "    <tr style=\"text-align: right;\">\n",
              "      <th></th>\n",
              "      <th>District</th>\n",
              "      <th>Zone</th>\n",
              "      <th>Ecological Belt</th>\n",
              "      <th>Development Region</th>\n",
              "      <th>Year (BS)</th>\n",
              "      <th>Year (AD)</th>\n",
              "      <th>Gender</th>\n",
              "      <th>Age-group</th>\n",
              "      <th>Value</th>\n",
              "    </tr>\n",
              "  </thead>\n",
              "  <tbody>\n",
              "    <tr>\n",
              "      <th>0</th>\n",
              "      <td>Achham</td>\n",
              "      <td>Seti</td>\n",
              "      <td>Hill</td>\n",
              "      <td>Far-Western</td>\n",
              "      <td>2068/69</td>\n",
              "      <td>2011/12</td>\n",
              "      <td>Male</td>\n",
              "      <td>10-14</td>\n",
              "      <td>116</td>\n",
              "    </tr>\n",
              "    <tr>\n",
              "      <th>1</th>\n",
              "      <td>Achham</td>\n",
              "      <td>Seti</td>\n",
              "      <td>Hill</td>\n",
              "      <td>Far-Western</td>\n",
              "      <td>2068/69</td>\n",
              "      <td>2011/12</td>\n",
              "      <td>Male</td>\n",
              "      <td>15-19</td>\n",
              "      <td>750</td>\n",
              "    </tr>\n",
              "    <tr>\n",
              "      <th>2</th>\n",
              "      <td>Achham</td>\n",
              "      <td>Seti</td>\n",
              "      <td>Hill</td>\n",
              "      <td>Far-Western</td>\n",
              "      <td>2068/69</td>\n",
              "      <td>2011/12</td>\n",
              "      <td>Male</td>\n",
              "      <td>20-29</td>\n",
              "      <td>5643</td>\n",
              "    </tr>\n",
              "    <tr>\n",
              "      <th>3</th>\n",
              "      <td>Achham</td>\n",
              "      <td>Seti</td>\n",
              "      <td>Hill</td>\n",
              "      <td>Far-Western</td>\n",
              "      <td>2068/69</td>\n",
              "      <td>2011/12</td>\n",
              "      <td>Male</td>\n",
              "      <td>30-39</td>\n",
              "      <td>7856</td>\n",
              "    </tr>\n",
              "    <tr>\n",
              "      <th>4</th>\n",
              "      <td>Achham</td>\n",
              "      <td>Seti</td>\n",
              "      <td>Hill</td>\n",
              "      <td>Far-Western</td>\n",
              "      <td>2068/69</td>\n",
              "      <td>2011/12</td>\n",
              "      <td>Male</td>\n",
              "      <td>40-49</td>\n",
              "      <td>7096</td>\n",
              "    </tr>\n",
              "    <tr>\n",
              "      <th>5</th>\n",
              "      <td>Achham</td>\n",
              "      <td>Seti</td>\n",
              "      <td>Hill</td>\n",
              "      <td>Far-Western</td>\n",
              "      <td>2068/69</td>\n",
              "      <td>2011/12</td>\n",
              "      <td>Male</td>\n",
              "      <td>50-59</td>\n",
              "      <td>5650</td>\n",
              "    </tr>\n",
              "    <tr>\n",
              "      <th>6</th>\n",
              "      <td>Achham</td>\n",
              "      <td>Seti</td>\n",
              "      <td>Hill</td>\n",
              "      <td>Far-Western</td>\n",
              "      <td>2068/69</td>\n",
              "      <td>2011/12</td>\n",
              "      <td>Male</td>\n",
              "      <td>60-69</td>\n",
              "      <td>4495</td>\n",
              "    </tr>\n",
              "    <tr>\n",
              "      <th>7</th>\n",
              "      <td>Achham</td>\n",
              "      <td>Seti</td>\n",
              "      <td>Hill</td>\n",
              "      <td>Far-Western</td>\n",
              "      <td>2068/69</td>\n",
              "      <td>2011/12</td>\n",
              "      <td>Male</td>\n",
              "      <td>70 years &amp; above</td>\n",
              "      <td>2490</td>\n",
              "    </tr>\n",
              "    <tr>\n",
              "      <th>8</th>\n",
              "      <td>Achham</td>\n",
              "      <td>Seti</td>\n",
              "      <td>Hill</td>\n",
              "      <td>Far-Western</td>\n",
              "      <td>2068/69</td>\n",
              "      <td>2011/12</td>\n",
              "      <td>Female</td>\n",
              "      <td>10-14</td>\n",
              "      <td>39</td>\n",
              "    </tr>\n",
              "    <tr>\n",
              "      <th>9</th>\n",
              "      <td>Achham</td>\n",
              "      <td>Seti</td>\n",
              "      <td>Hill</td>\n",
              "      <td>Far-Western</td>\n",
              "      <td>2068/69</td>\n",
              "      <td>2011/12</td>\n",
              "      <td>Female</td>\n",
              "      <td>15-19</td>\n",
              "      <td>231</td>\n",
              "    </tr>\n",
              "  </tbody>\n",
              "</table>\n",
              "</div>"
            ],
            "text/plain": [
              "  District  Zone Ecological Belt Development Region Year (BS) Year (AD)  \\\n",
              "0   Achham  Seti            Hill        Far-Western   2068/69   2011/12   \n",
              "1   Achham  Seti            Hill        Far-Western   2068/69   2011/12   \n",
              "2   Achham  Seti            Hill        Far-Western   2068/69   2011/12   \n",
              "3   Achham  Seti            Hill        Far-Western   2068/69   2011/12   \n",
              "4   Achham  Seti            Hill        Far-Western   2068/69   2011/12   \n",
              "5   Achham  Seti            Hill        Far-Western   2068/69   2011/12   \n",
              "6   Achham  Seti            Hill        Far-Western   2068/69   2011/12   \n",
              "7   Achham  Seti            Hill        Far-Western   2068/69   2011/12   \n",
              "8   Achham  Seti            Hill        Far-Western   2068/69   2011/12   \n",
              "9   Achham  Seti            Hill        Far-Western   2068/69   2011/12   \n",
              "\n",
              "   Gender         Age-group  Value  \n",
              "0    Male             10-14    116  \n",
              "1    Male             15-19    750  \n",
              "2    Male             20-29   5643  \n",
              "3    Male             30-39   7856  \n",
              "4    Male             40-49   7096  \n",
              "5    Male             50-59   5650  \n",
              "6    Male             60-69   4495  \n",
              "7    Male  70 years & above   2490  \n",
              "8  Female             10-14     39  \n",
              "9  Female             15-19    231  "
            ]
          },
          "metadata": {
            "tags": []
          },
          "execution_count": 34
        }
      ]
    },
    {
      "metadata": {
        "id": "piyu4wVSqCCJ",
        "colab_type": "code",
        "colab": {
          "base_uri": "https://localhost:8080/",
          "height": 343
        },
        "outputId": "1cda8fd1-33ef-4a7e-ef3d-99dee57bc314"
      },
      "cell_type": "code",
      "source": [
        "df.tail(10)"
      ],
      "execution_count": 35,
      "outputs": [
        {
          "output_type": "execute_result",
          "data": {
            "text/html": [
              "<div>\n",
              "<style scoped>\n",
              "    .dataframe tbody tr th:only-of-type {\n",
              "        vertical-align: middle;\n",
              "    }\n",
              "\n",
              "    .dataframe tbody tr th {\n",
              "        vertical-align: top;\n",
              "    }\n",
              "\n",
              "    .dataframe thead th {\n",
              "        text-align: right;\n",
              "    }\n",
              "</style>\n",
              "<table border=\"1\" class=\"dataframe\">\n",
              "  <thead>\n",
              "    <tr style=\"text-align: right;\">\n",
              "      <th></th>\n",
              "      <th>District</th>\n",
              "      <th>Zone</th>\n",
              "      <th>Ecological Belt</th>\n",
              "      <th>Development Region</th>\n",
              "      <th>Year (BS)</th>\n",
              "      <th>Year (AD)</th>\n",
              "      <th>Gender</th>\n",
              "      <th>Age-group</th>\n",
              "      <th>Value</th>\n",
              "    </tr>\n",
              "  </thead>\n",
              "  <tbody>\n",
              "    <tr>\n",
              "      <th>1190</th>\n",
              "      <td>Udayapur</td>\n",
              "      <td>Sagarmatha</td>\n",
              "      <td>Hill</td>\n",
              "      <td>Eastern</td>\n",
              "      <td>2068/69</td>\n",
              "      <td>2011/12</td>\n",
              "      <td>Male</td>\n",
              "      <td>60-69</td>\n",
              "      <td>6348</td>\n",
              "    </tr>\n",
              "    <tr>\n",
              "      <th>1191</th>\n",
              "      <td>Udayapur</td>\n",
              "      <td>Sagarmatha</td>\n",
              "      <td>Hill</td>\n",
              "      <td>Eastern</td>\n",
              "      <td>2068/69</td>\n",
              "      <td>2011/12</td>\n",
              "      <td>Male</td>\n",
              "      <td>70 years &amp; above</td>\n",
              "      <td>3236</td>\n",
              "    </tr>\n",
              "    <tr>\n",
              "      <th>1192</th>\n",
              "      <td>Udayapur</td>\n",
              "      <td>Sagarmatha</td>\n",
              "      <td>Hill</td>\n",
              "      <td>Eastern</td>\n",
              "      <td>2068/69</td>\n",
              "      <td>2011/12</td>\n",
              "      <td>Female</td>\n",
              "      <td>10-14</td>\n",
              "      <td>32</td>\n",
              "    </tr>\n",
              "    <tr>\n",
              "      <th>1193</th>\n",
              "      <td>Udayapur</td>\n",
              "      <td>Sagarmatha</td>\n",
              "      <td>Hill</td>\n",
              "      <td>Eastern</td>\n",
              "      <td>2068/69</td>\n",
              "      <td>2011/12</td>\n",
              "      <td>Female</td>\n",
              "      <td>15-19</td>\n",
              "      <td>398</td>\n",
              "    </tr>\n",
              "    <tr>\n",
              "      <th>1194</th>\n",
              "      <td>Udayapur</td>\n",
              "      <td>Sagarmatha</td>\n",
              "      <td>Hill</td>\n",
              "      <td>Eastern</td>\n",
              "      <td>2068/69</td>\n",
              "      <td>2011/12</td>\n",
              "      <td>Female</td>\n",
              "      <td>20-29</td>\n",
              "      <td>5015</td>\n",
              "    </tr>\n",
              "    <tr>\n",
              "      <th>1195</th>\n",
              "      <td>Udayapur</td>\n",
              "      <td>Sagarmatha</td>\n",
              "      <td>Hill</td>\n",
              "      <td>Eastern</td>\n",
              "      <td>2068/69</td>\n",
              "      <td>2011/12</td>\n",
              "      <td>Female</td>\n",
              "      <td>30-39</td>\n",
              "      <td>5391</td>\n",
              "    </tr>\n",
              "    <tr>\n",
              "      <th>1196</th>\n",
              "      <td>Udayapur</td>\n",
              "      <td>Sagarmatha</td>\n",
              "      <td>Hill</td>\n",
              "      <td>Eastern</td>\n",
              "      <td>2068/69</td>\n",
              "      <td>2011/12</td>\n",
              "      <td>Female</td>\n",
              "      <td>40-49</td>\n",
              "      <td>3425</td>\n",
              "    </tr>\n",
              "    <tr>\n",
              "      <th>1197</th>\n",
              "      <td>Udayapur</td>\n",
              "      <td>Sagarmatha</td>\n",
              "      <td>Hill</td>\n",
              "      <td>Eastern</td>\n",
              "      <td>2068/69</td>\n",
              "      <td>2011/12</td>\n",
              "      <td>Female</td>\n",
              "      <td>50-59</td>\n",
              "      <td>2246</td>\n",
              "    </tr>\n",
              "    <tr>\n",
              "      <th>1198</th>\n",
              "      <td>Udayapur</td>\n",
              "      <td>Sagarmatha</td>\n",
              "      <td>Hill</td>\n",
              "      <td>Eastern</td>\n",
              "      <td>2068/69</td>\n",
              "      <td>2011/12</td>\n",
              "      <td>Female</td>\n",
              "      <td>60-69</td>\n",
              "      <td>1851</td>\n",
              "    </tr>\n",
              "    <tr>\n",
              "      <th>1199</th>\n",
              "      <td>Udayapur</td>\n",
              "      <td>Sagarmatha</td>\n",
              "      <td>Hill</td>\n",
              "      <td>Eastern</td>\n",
              "      <td>2068/69</td>\n",
              "      <td>2011/12</td>\n",
              "      <td>Female</td>\n",
              "      <td>70 years &amp; above</td>\n",
              "      <td>914</td>\n",
              "    </tr>\n",
              "  </tbody>\n",
              "</table>\n",
              "</div>"
            ],
            "text/plain": [
              "      District        Zone Ecological Belt Development Region Year (BS)  \\\n",
              "1190  Udayapur  Sagarmatha            Hill            Eastern   2068/69   \n",
              "1191  Udayapur  Sagarmatha            Hill            Eastern   2068/69   \n",
              "1192  Udayapur  Sagarmatha            Hill            Eastern   2068/69   \n",
              "1193  Udayapur  Sagarmatha            Hill            Eastern   2068/69   \n",
              "1194  Udayapur  Sagarmatha            Hill            Eastern   2068/69   \n",
              "1195  Udayapur  Sagarmatha            Hill            Eastern   2068/69   \n",
              "1196  Udayapur  Sagarmatha            Hill            Eastern   2068/69   \n",
              "1197  Udayapur  Sagarmatha            Hill            Eastern   2068/69   \n",
              "1198  Udayapur  Sagarmatha            Hill            Eastern   2068/69   \n",
              "1199  Udayapur  Sagarmatha            Hill            Eastern   2068/69   \n",
              "\n",
              "     Year (AD)  Gender         Age-group  Value  \n",
              "1190   2011/12    Male             60-69   6348  \n",
              "1191   2011/12    Male  70 years & above   3236  \n",
              "1192   2011/12  Female             10-14     32  \n",
              "1193   2011/12  Female             15-19    398  \n",
              "1194   2011/12  Female             20-29   5015  \n",
              "1195   2011/12  Female             30-39   5391  \n",
              "1196   2011/12  Female             40-49   3425  \n",
              "1197   2011/12  Female             50-59   2246  \n",
              "1198   2011/12  Female             60-69   1851  \n",
              "1199   2011/12  Female  70 years & above    914  "
            ]
          },
          "metadata": {
            "tags": []
          },
          "execution_count": 35
        }
      ]
    },
    {
      "metadata": {
        "id": "Az_wN8kYngVX",
        "colab_type": "text"
      },
      "cell_type": "markdown",
      "source": [
        "# How many rows and columns?"
      ]
    },
    {
      "metadata": {
        "id": "Ve9OzhCrlkvW",
        "colab_type": "code",
        "colab": {
          "base_uri": "https://localhost:8080/",
          "height": 34
        },
        "outputId": "f60b7f9b-4f4b-4c4b-ea18-420a10640adc"
      },
      "cell_type": "code",
      "source": [
        "df.shape"
      ],
      "execution_count": 26,
      "outputs": [
        {
          "output_type": "execute_result",
          "data": {
            "text/plain": [
              "(1200, 9)"
            ]
          },
          "metadata": {
            "tags": []
          },
          "execution_count": 26
        }
      ]
    },
    {
      "metadata": {
        "id": "R6bU1Tb2pefw",
        "colab_type": "code",
        "colab": {
          "base_uri": "https://localhost:8080/",
          "height": 67
        },
        "outputId": "80fab1f5-1329-4762-d5fa-dc866459611b"
      },
      "cell_type": "code",
      "source": [
        "df.columns"
      ],
      "execution_count": 27,
      "outputs": [
        {
          "output_type": "execute_result",
          "data": {
            "text/plain": [
              "Index(['District', 'Zone', 'Ecological Belt', 'Development Region',\n",
              "       'Year (BS)', 'Year (AD)', 'Gender', 'Age-group', 'Value'],\n",
              "      dtype='object')"
            ]
          },
          "metadata": {
            "tags": []
          },
          "execution_count": 27
        }
      ]
    },
    {
      "metadata": {
        "id": "hkJTyJRJpgLD",
        "colab_type": "code",
        "colab": {
          "base_uri": "https://localhost:8080/",
          "height": 284
        },
        "outputId": "996ef7ff-e6b7-4bbf-9e7b-f9db42413da8"
      },
      "cell_type": "code",
      "source": [
        "df.describe()"
      ],
      "execution_count": 28,
      "outputs": [
        {
          "output_type": "execute_result",
          "data": {
            "text/html": [
              "<div>\n",
              "<style scoped>\n",
              "    .dataframe tbody tr th:only-of-type {\n",
              "        vertical-align: middle;\n",
              "    }\n",
              "\n",
              "    .dataframe tbody tr th {\n",
              "        vertical-align: top;\n",
              "    }\n",
              "\n",
              "    .dataframe thead th {\n",
              "        text-align: right;\n",
              "    }\n",
              "</style>\n",
              "<table border=\"1\" class=\"dataframe\">\n",
              "  <thead>\n",
              "    <tr style=\"text-align: right;\">\n",
              "      <th></th>\n",
              "      <th>Value</th>\n",
              "    </tr>\n",
              "  </thead>\n",
              "  <tbody>\n",
              "    <tr>\n",
              "      <th>count</th>\n",
              "      <td>1200.000000</td>\n",
              "    </tr>\n",
              "    <tr>\n",
              "      <th>mean</th>\n",
              "      <td>4522.751667</td>\n",
              "    </tr>\n",
              "    <tr>\n",
              "      <th>std</th>\n",
              "      <td>7030.197438</td>\n",
              "    </tr>\n",
              "    <tr>\n",
              "      <th>min</th>\n",
              "      <td>0.000000</td>\n",
              "    </tr>\n",
              "    <tr>\n",
              "      <th>25%</th>\n",
              "      <td>397.000000</td>\n",
              "    </tr>\n",
              "    <tr>\n",
              "      <th>50%</th>\n",
              "      <td>2180.500000</td>\n",
              "    </tr>\n",
              "    <tr>\n",
              "      <th>75%</th>\n",
              "      <td>5662.250000</td>\n",
              "    </tr>\n",
              "    <tr>\n",
              "      <th>max</th>\n",
              "      <td>84672.000000</td>\n",
              "    </tr>\n",
              "  </tbody>\n",
              "</table>\n",
              "</div>"
            ],
            "text/plain": [
              "              Value\n",
              "count   1200.000000\n",
              "mean    4522.751667\n",
              "std     7030.197438\n",
              "min        0.000000\n",
              "25%      397.000000\n",
              "50%     2180.500000\n",
              "75%     5662.250000\n",
              "max    84672.000000"
            ]
          },
          "metadata": {
            "tags": []
          },
          "execution_count": 28
        }
      ]
    },
    {
      "metadata": {
        "id": "eERbI73apkBG",
        "colab_type": "code",
        "colab": {
          "base_uri": "https://localhost:8080/",
          "height": 252
        },
        "outputId": "b0ac7ba1-c5c6-46c4-c40b-dc5b34d75229"
      },
      "cell_type": "code",
      "source": [
        "df.info()"
      ],
      "execution_count": 29,
      "outputs": [
        {
          "output_type": "stream",
          "text": [
            "<class 'pandas.core.frame.DataFrame'>\n",
            "RangeIndex: 1200 entries, 0 to 1199\n",
            "Data columns (total 9 columns):\n",
            "District              1200 non-null object\n",
            "Zone                  1200 non-null object\n",
            "Ecological Belt       1200 non-null object\n",
            "Development Region    1200 non-null object\n",
            "Year (BS)             1200 non-null object\n",
            "Year (AD)             1200 non-null object\n",
            "Gender                1200 non-null object\n",
            "Age-group             1200 non-null object\n",
            "Value                 1200 non-null int64\n",
            "dtypes: int64(1), object(8)\n",
            "memory usage: 84.5+ KB\n"
          ],
          "name": "stdout"
        }
      ]
    },
    {
      "metadata": {
        "id": "nYkGCUu8qXEf",
        "colab_type": "text"
      },
      "cell_type": "markdown",
      "source": [
        "# Make dataframes for each development region\n"
      ]
    },
    {
      "metadata": {
        "id": "0cMRecDuqeCU",
        "colab_type": "code",
        "colab": {}
      },
      "cell_type": "code",
      "source": [
        "far_western_df = df[df[\"Development Region\"] == \"Far-Western\"]\n",
        "mid_western_df = df[df[\"Development Region\"] == \"Mid-Western\"]\n",
        "western_df = df[df[\"Development Region\"] == \"Western\"]\n",
        "central_df = df[df[\"Development Region\"] == \"Central\"]\n",
        "eastern_df = df[df[\"Development Region\"] == \"Eastern\"]"
      ],
      "execution_count": 0,
      "outputs": []
    },
    {
      "metadata": {
        "id": "jGBz1jp4sl-D",
        "colab_type": "text"
      },
      "cell_type": "markdown",
      "source": [
        "## How many districts are there in Far-Western Development Region?"
      ]
    },
    {
      "metadata": {
        "id": "XAAD3psZqg5c",
        "colab_type": "code",
        "colab": {
          "base_uri": "https://localhost:8080/",
          "height": 50
        },
        "outputId": "d86d8a4d-72ea-4a34-c9d1-692d9326a89e"
      },
      "cell_type": "code",
      "source": [
        "\n",
        "districts_in_far_western = far_western_df[\"District\"].unique()\n",
        "\n",
        "\n",
        "print(\"There are {} districts in Far Western\".format(far_western_df[\"District\"].nunique()))\n",
        "print(*districts_in_far_western, sep = \", \")"
      ],
      "execution_count": 49,
      "outputs": [
        {
          "output_type": "stream",
          "text": [
            "There are 9 districts in Far Western\n",
            "Achham, Baitadi, Bajhang, Bajura, Dadeldhura, Darchula, Doti, Kailali, Kanchanpur\n"
          ],
          "name": "stdout"
        }
      ]
    },
    {
      "metadata": {
        "id": "J4fSOWF_tR4a",
        "colab_type": "text"
      },
      "cell_type": "markdown",
      "source": [
        "## Find  total male population"
      ]
    },
    {
      "metadata": {
        "id": "1RlGydcLtW-a",
        "colab_type": "code",
        "colab": {
          "base_uri": "https://localhost:8080/",
          "height": 34
        },
        "outputId": "18780791-9c26-430c-f4a6-268f351fad99"
      },
      "cell_type": "code",
      "source": [
        "male_df = df[df[\"Gender\"] == \"Male\"]\n",
        "male_df.head()\n",
        "\n",
        "male_df[\"Value\"].sum()"
      ],
      "execution_count": 63,
      "outputs": [
        {
          "output_type": "execute_result",
          "data": {
            "text/plain": [
              "4030610"
            ]
          },
          "metadata": {
            "tags": []
          },
          "execution_count": 63
        }
      ]
    },
    {
      "metadata": {
        "id": "HAR2N2my5kuW",
        "colab_type": "text"
      },
      "cell_type": "markdown",
      "source": [
        "## Total Male Population of Gulmi\n",
        "\n",
        "\n",
        "\n",
        "\n"
      ]
    },
    {
      "metadata": {
        "id": "X1Zdrs5E5q-l",
        "colab_type": "code",
        "colab": {
          "base_uri": "https://localhost:8080/",
          "height": 34
        },
        "outputId": "e099b10a-4816-4ff4-aa0b-0b6d76747a36"
      },
      "cell_type": "code",
      "source": [
        "gulmi_male = male_df[male_df[\"District\"] == \"Gulmi\"]\n",
        "total_male_popn_gulmi = gulmi_male[\"Value\"].sum()\n",
        "print(total_male_popn_gulmi)"
      ],
      "execution_count": 70,
      "outputs": [
        {
          "output_type": "stream",
          "text": [
            "37300\n"
          ],
          "name": "stdout"
        }
      ]
    },
    {
      "metadata": {
        "id": "pfnQYXr_5vU7",
        "colab_type": "text"
      },
      "cell_type": "markdown",
      "source": [
        "## Total Male Population with age group 20-29"
      ]
    },
    {
      "metadata": {
        "id": "kw2NkwS95rv4",
        "colab_type": "code",
        "colab": {
          "base_uri": "https://localhost:8080/",
          "height": 34
        },
        "outputId": "bd21ed2b-2039-4383-bb8b-f74236e50051"
      },
      "cell_type": "code",
      "source": [
        "male_popn_20_29 = male_df[male_df[\"Age-group\"] == \"20-29\"]\n",
        "male_popn_20_29.head()\n",
        "print(male_popn_20_29[\"Value\"].sum())"
      ],
      "execution_count": 71,
      "outputs": [
        {
          "output_type": "stream",
          "text": [
            "458730\n"
          ],
          "name": "stdout"
        }
      ]
    },
    {
      "metadata": {
        "id": "JpsVOLDf6ZNy",
        "colab_type": "text"
      },
      "cell_type": "markdown",
      "source": [
        "## Total male population with age group 20-29 in Western Development Region"
      ]
    },
    {
      "metadata": {
        "id": "nudWG_tH6JLj",
        "colab_type": "code",
        "colab": {
          "base_uri": "https://localhost:8080/",
          "height": 212
        },
        "outputId": "98f80bcd-7665-4d09-b1b4-7de485d0fcc5"
      },
      "cell_type": "code",
      "source": [
        "male_popn_20_29_western = male_df[np.logical_and(male_df[\"Age-group\"] == \"20-29\", male_df[\"Development Region\"] == \"Western\")]\n",
        "\n",
        "print(male_popn_20_29_western[\"Value\"].sum())\n",
        "male_popn_20_29_western.head()"
      ],
      "execution_count": 79,
      "outputs": [
        {
          "output_type": "stream",
          "text": [
            "60191\n"
          ],
          "name": "stdout"
        },
        {
          "output_type": "execute_result",
          "data": {
            "text/html": [
              "<div>\n",
              "<style scoped>\n",
              "    .dataframe tbody tr th:only-of-type {\n",
              "        vertical-align: middle;\n",
              "    }\n",
              "\n",
              "    .dataframe tbody tr th {\n",
              "        vertical-align: top;\n",
              "    }\n",
              "\n",
              "    .dataframe thead th {\n",
              "        text-align: right;\n",
              "    }\n",
              "</style>\n",
              "<table border=\"1\" class=\"dataframe\">\n",
              "  <thead>\n",
              "    <tr style=\"text-align: right;\">\n",
              "      <th></th>\n",
              "      <th>District</th>\n",
              "      <th>Zone</th>\n",
              "      <th>Ecological Belt</th>\n",
              "      <th>Development Region</th>\n",
              "      <th>Year (BS)</th>\n",
              "      <th>Year (AD)</th>\n",
              "      <th>Gender</th>\n",
              "      <th>Age-group</th>\n",
              "      <th>Value</th>\n",
              "    </tr>\n",
              "  </thead>\n",
              "  <tbody>\n",
              "    <tr>\n",
              "      <th>18</th>\n",
              "      <td>Arghakhanchi</td>\n",
              "      <td>Lumbini</td>\n",
              "      <td>Hill</td>\n",
              "      <td>Western</td>\n",
              "      <td>2068/69</td>\n",
              "      <td>2011/12</td>\n",
              "      <td>Male</td>\n",
              "      <td>20-29</td>\n",
              "      <td>1892</td>\n",
              "    </tr>\n",
              "    <tr>\n",
              "      <th>34</th>\n",
              "      <td>Baglung</td>\n",
              "      <td>Dhawalagiri</td>\n",
              "      <td>Hill</td>\n",
              "      <td>Western</td>\n",
              "      <td>2068/69</td>\n",
              "      <td>2011/12</td>\n",
              "      <td>Male</td>\n",
              "      <td>20-29</td>\n",
              "      <td>2860</td>\n",
              "    </tr>\n",
              "    <tr>\n",
              "      <th>354</th>\n",
              "      <td>Gorkha</td>\n",
              "      <td>Gandaki</td>\n",
              "      <td>Hill</td>\n",
              "      <td>Western</td>\n",
              "      <td>2068/69</td>\n",
              "      <td>2011/12</td>\n",
              "      <td>Male</td>\n",
              "      <td>20-29</td>\n",
              "      <td>2629</td>\n",
              "    </tr>\n",
              "    <tr>\n",
              "      <th>370</th>\n",
              "      <td>Gulmi</td>\n",
              "      <td>Lumbini</td>\n",
              "      <td>Hill</td>\n",
              "      <td>Western</td>\n",
              "      <td>2068/69</td>\n",
              "      <td>2011/12</td>\n",
              "      <td>Male</td>\n",
              "      <td>20-29</td>\n",
              "      <td>2205</td>\n",
              "    </tr>\n",
              "    <tr>\n",
              "      <th>514</th>\n",
              "      <td>Kapilbastu</td>\n",
              "      <td>Lumbini</td>\n",
              "      <td>Terai</td>\n",
              "      <td>Western</td>\n",
              "      <td>2068/69</td>\n",
              "      <td>2011/12</td>\n",
              "      <td>Male</td>\n",
              "      <td>20-29</td>\n",
              "      <td>5983</td>\n",
              "    </tr>\n",
              "  </tbody>\n",
              "</table>\n",
              "</div>"
            ],
            "text/plain": [
              "         District         Zone Ecological Belt Development Region Year (BS)  \\\n",
              "18   Arghakhanchi      Lumbini            Hill            Western   2068/69   \n",
              "34        Baglung  Dhawalagiri            Hill            Western   2068/69   \n",
              "354        Gorkha      Gandaki            Hill            Western   2068/69   \n",
              "370         Gulmi      Lumbini            Hill            Western   2068/69   \n",
              "514    Kapilbastu      Lumbini           Terai            Western   2068/69   \n",
              "\n",
              "    Year (AD) Gender Age-group  Value  \n",
              "18    2011/12   Male     20-29   1892  \n",
              "34    2011/12   Male     20-29   2860  \n",
              "354   2011/12   Male     20-29   2629  \n",
              "370   2011/12   Male     20-29   2205  \n",
              "514   2011/12   Male     20-29   5983  "
            ]
          },
          "metadata": {
            "tags": []
          },
          "execution_count": 79
        }
      ]
    },
    {
      "metadata": {
        "id": "9_UgNcvC7P_f",
        "colab_type": "text"
      },
      "cell_type": "markdown",
      "source": [
        "## Least Populated Development Region"
      ]
    },
    {
      "metadata": {
        "id": "LoUp9MLq64_z",
        "colab_type": "code",
        "colab": {}
      },
      "cell_type": "code",
      "source": [
        ""
      ],
      "execution_count": 0,
      "outputs": []
    }
  ]
}