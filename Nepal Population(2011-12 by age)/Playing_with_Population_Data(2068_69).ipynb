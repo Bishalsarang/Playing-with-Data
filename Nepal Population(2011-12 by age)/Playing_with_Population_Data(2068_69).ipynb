{
 "cells": [
  {
   "cell_type": "markdown",
   "metadata": {
    "colab_type": "text",
    "id": "ChU4hYCujqCJ"
   },
   "source": [
    "# Import Required Library"
   ]
  },
  {
   "cell_type": "code",
   "execution_count": 2,
   "metadata": {
    "colab": {},
    "colab_type": "code",
    "id": "V8VMv8NMjoB-"
   },
   "outputs": [],
   "source": [
    "import numpy as np\n",
    "import pandas as pd\n",
    "import matplotlib.pyplot as plt\n",
    "%matplotlib inline"
   ]
  },
  {
   "cell_type": "markdown",
   "metadata": {
    "colab_type": "text",
    "id": "Paii7mXaj0vZ"
   },
   "source": [
    "# Open CSV FILE from [here](https://github.com/opennepal/odp-census/blob/master/Population%20by%20sex%20and%20age-group/data.csv)"
   ]
  },
  {
   "cell_type": "markdown",
   "metadata": {
    "colab_type": "text",
    "id": "ayn-MwQAn8Th"
   },
   "source": [
    "If we look at the structure of csv file at given link, all the values are comma separated except the one after Year (AD) column\n",
    "\n",
    "For a quick fix, I fired up my notepad++ and did replace all with regex pattern *(,)\\s+(\\w)*\n",
    "and replace string *\\1\\2*\n",
    "\n"
   ]
  },
  {
   "cell_type": "code",
   "execution_count": 3,
   "metadata": {
    "colab": {},
    "colab_type": "code",
    "id": "eqL-8TtXkS88"
   },
   "outputs": [],
   "source": [
    "df = pd.read_csv(\"popn_by_age.csv\", sep = \",\")"
   ]
  },
  {
   "cell_type": "code",
   "execution_count": 4,
   "metadata": {
    "colab": {
     "base_uri": "https://localhost:8080/",
     "height": 343
    },
    "colab_type": "code",
    "id": "P7s-O0o7kX1i",
    "outputId": "1c9935ae-8fce-4b56-caaf-5284ae640ec3"
   },
   "outputs": [
    {
     "data": {
      "text/html": [
       "<div>\n",
       "<style scoped>\n",
       "    .dataframe tbody tr th:only-of-type {\n",
       "        vertical-align: middle;\n",
       "    }\n",
       "\n",
       "    .dataframe tbody tr th {\n",
       "        vertical-align: top;\n",
       "    }\n",
       "\n",
       "    .dataframe thead th {\n",
       "        text-align: right;\n",
       "    }\n",
       "</style>\n",
       "<table border=\"1\" class=\"dataframe\">\n",
       "  <thead>\n",
       "    <tr style=\"text-align: right;\">\n",
       "      <th></th>\n",
       "      <th>District</th>\n",
       "      <th>Zone</th>\n",
       "      <th>Ecological Belt</th>\n",
       "      <th>Development Region</th>\n",
       "      <th>Year (BS)</th>\n",
       "      <th>Year (AD)</th>\n",
       "      <th>Gender</th>\n",
       "      <th>Age-group</th>\n",
       "      <th>Value</th>\n",
       "    </tr>\n",
       "  </thead>\n",
       "  <tbody>\n",
       "    <tr>\n",
       "      <th>0</th>\n",
       "      <td>Achham</td>\n",
       "      <td>Seti</td>\n",
       "      <td>Hill</td>\n",
       "      <td>Far-Western</td>\n",
       "      <td>2068/69</td>\n",
       "      <td>2011/12</td>\n",
       "      <td>Male</td>\n",
       "      <td>10-14</td>\n",
       "      <td>116</td>\n",
       "    </tr>\n",
       "    <tr>\n",
       "      <th>1</th>\n",
       "      <td>Achham</td>\n",
       "      <td>Seti</td>\n",
       "      <td>Hill</td>\n",
       "      <td>Far-Western</td>\n",
       "      <td>2068/69</td>\n",
       "      <td>2011/12</td>\n",
       "      <td>Male</td>\n",
       "      <td>15-19</td>\n",
       "      <td>750</td>\n",
       "    </tr>\n",
       "    <tr>\n",
       "      <th>2</th>\n",
       "      <td>Achham</td>\n",
       "      <td>Seti</td>\n",
       "      <td>Hill</td>\n",
       "      <td>Far-Western</td>\n",
       "      <td>2068/69</td>\n",
       "      <td>2011/12</td>\n",
       "      <td>Male</td>\n",
       "      <td>20-29</td>\n",
       "      <td>5643</td>\n",
       "    </tr>\n",
       "    <tr>\n",
       "      <th>3</th>\n",
       "      <td>Achham</td>\n",
       "      <td>Seti</td>\n",
       "      <td>Hill</td>\n",
       "      <td>Far-Western</td>\n",
       "      <td>2068/69</td>\n",
       "      <td>2011/12</td>\n",
       "      <td>Male</td>\n",
       "      <td>30-39</td>\n",
       "      <td>7856</td>\n",
       "    </tr>\n",
       "    <tr>\n",
       "      <th>4</th>\n",
       "      <td>Achham</td>\n",
       "      <td>Seti</td>\n",
       "      <td>Hill</td>\n",
       "      <td>Far-Western</td>\n",
       "      <td>2068/69</td>\n",
       "      <td>2011/12</td>\n",
       "      <td>Male</td>\n",
       "      <td>40-49</td>\n",
       "      <td>7096</td>\n",
       "    </tr>\n",
       "    <tr>\n",
       "      <th>5</th>\n",
       "      <td>Achham</td>\n",
       "      <td>Seti</td>\n",
       "      <td>Hill</td>\n",
       "      <td>Far-Western</td>\n",
       "      <td>2068/69</td>\n",
       "      <td>2011/12</td>\n",
       "      <td>Male</td>\n",
       "      <td>50-59</td>\n",
       "      <td>5650</td>\n",
       "    </tr>\n",
       "    <tr>\n",
       "      <th>6</th>\n",
       "      <td>Achham</td>\n",
       "      <td>Seti</td>\n",
       "      <td>Hill</td>\n",
       "      <td>Far-Western</td>\n",
       "      <td>2068/69</td>\n",
       "      <td>2011/12</td>\n",
       "      <td>Male</td>\n",
       "      <td>60-69</td>\n",
       "      <td>4495</td>\n",
       "    </tr>\n",
       "    <tr>\n",
       "      <th>7</th>\n",
       "      <td>Achham</td>\n",
       "      <td>Seti</td>\n",
       "      <td>Hill</td>\n",
       "      <td>Far-Western</td>\n",
       "      <td>2068/69</td>\n",
       "      <td>2011/12</td>\n",
       "      <td>Male</td>\n",
       "      <td>70 years &amp; above</td>\n",
       "      <td>2490</td>\n",
       "    </tr>\n",
       "    <tr>\n",
       "      <th>8</th>\n",
       "      <td>Achham</td>\n",
       "      <td>Seti</td>\n",
       "      <td>Hill</td>\n",
       "      <td>Far-Western</td>\n",
       "      <td>2068/69</td>\n",
       "      <td>2011/12</td>\n",
       "      <td>Female</td>\n",
       "      <td>10-14</td>\n",
       "      <td>39</td>\n",
       "    </tr>\n",
       "    <tr>\n",
       "      <th>9</th>\n",
       "      <td>Achham</td>\n",
       "      <td>Seti</td>\n",
       "      <td>Hill</td>\n",
       "      <td>Far-Western</td>\n",
       "      <td>2068/69</td>\n",
       "      <td>2011/12</td>\n",
       "      <td>Female</td>\n",
       "      <td>15-19</td>\n",
       "      <td>231</td>\n",
       "    </tr>\n",
       "  </tbody>\n",
       "</table>\n",
       "</div>"
      ],
      "text/plain": [
       "  District  Zone Ecological Belt Development Region Year (BS) Year (AD)  \\\n",
       "0   Achham  Seti            Hill        Far-Western   2068/69   2011/12   \n",
       "1   Achham  Seti            Hill        Far-Western   2068/69   2011/12   \n",
       "2   Achham  Seti            Hill        Far-Western   2068/69   2011/12   \n",
       "3   Achham  Seti            Hill        Far-Western   2068/69   2011/12   \n",
       "4   Achham  Seti            Hill        Far-Western   2068/69   2011/12   \n",
       "5   Achham  Seti            Hill        Far-Western   2068/69   2011/12   \n",
       "6   Achham  Seti            Hill        Far-Western   2068/69   2011/12   \n",
       "7   Achham  Seti            Hill        Far-Western   2068/69   2011/12   \n",
       "8   Achham  Seti            Hill        Far-Western   2068/69   2011/12   \n",
       "9   Achham  Seti            Hill        Far-Western   2068/69   2011/12   \n",
       "\n",
       "   Gender         Age-group  Value  \n",
       "0    Male             10-14    116  \n",
       "1    Male             15-19    750  \n",
       "2    Male             20-29   5643  \n",
       "3    Male             30-39   7856  \n",
       "4    Male             40-49   7096  \n",
       "5    Male             50-59   5650  \n",
       "6    Male             60-69   4495  \n",
       "7    Male  70 years & above   2490  \n",
       "8  Female             10-14     39  \n",
       "9  Female             15-19    231  "
      ]
     },
     "execution_count": 4,
     "metadata": {},
     "output_type": "execute_result"
    }
   ],
   "source": [
    "df.head(10)"
   ]
  },
  {
   "cell_type": "code",
   "execution_count": 5,
   "metadata": {
    "colab": {
     "base_uri": "https://localhost:8080/",
     "height": 343
    },
    "colab_type": "code",
    "id": "piyu4wVSqCCJ",
    "outputId": "1cda8fd1-33ef-4a7e-ef3d-99dee57bc314"
   },
   "outputs": [
    {
     "data": {
      "text/html": [
       "<div>\n",
       "<style scoped>\n",
       "    .dataframe tbody tr th:only-of-type {\n",
       "        vertical-align: middle;\n",
       "    }\n",
       "\n",
       "    .dataframe tbody tr th {\n",
       "        vertical-align: top;\n",
       "    }\n",
       "\n",
       "    .dataframe thead th {\n",
       "        text-align: right;\n",
       "    }\n",
       "</style>\n",
       "<table border=\"1\" class=\"dataframe\">\n",
       "  <thead>\n",
       "    <tr style=\"text-align: right;\">\n",
       "      <th></th>\n",
       "      <th>District</th>\n",
       "      <th>Zone</th>\n",
       "      <th>Ecological Belt</th>\n",
       "      <th>Development Region</th>\n",
       "      <th>Year (BS)</th>\n",
       "      <th>Year (AD)</th>\n",
       "      <th>Gender</th>\n",
       "      <th>Age-group</th>\n",
       "      <th>Value</th>\n",
       "    </tr>\n",
       "  </thead>\n",
       "  <tbody>\n",
       "    <tr>\n",
       "      <th>1190</th>\n",
       "      <td>Udayapur</td>\n",
       "      <td>Sagarmatha</td>\n",
       "      <td>Hill</td>\n",
       "      <td>Eastern</td>\n",
       "      <td>2068/69</td>\n",
       "      <td>2011/12</td>\n",
       "      <td>Male</td>\n",
       "      <td>60-69</td>\n",
       "      <td>6348</td>\n",
       "    </tr>\n",
       "    <tr>\n",
       "      <th>1191</th>\n",
       "      <td>Udayapur</td>\n",
       "      <td>Sagarmatha</td>\n",
       "      <td>Hill</td>\n",
       "      <td>Eastern</td>\n",
       "      <td>2068/69</td>\n",
       "      <td>2011/12</td>\n",
       "      <td>Male</td>\n",
       "      <td>70 years &amp; above</td>\n",
       "      <td>3236</td>\n",
       "    </tr>\n",
       "    <tr>\n",
       "      <th>1192</th>\n",
       "      <td>Udayapur</td>\n",
       "      <td>Sagarmatha</td>\n",
       "      <td>Hill</td>\n",
       "      <td>Eastern</td>\n",
       "      <td>2068/69</td>\n",
       "      <td>2011/12</td>\n",
       "      <td>Female</td>\n",
       "      <td>10-14</td>\n",
       "      <td>32</td>\n",
       "    </tr>\n",
       "    <tr>\n",
       "      <th>1193</th>\n",
       "      <td>Udayapur</td>\n",
       "      <td>Sagarmatha</td>\n",
       "      <td>Hill</td>\n",
       "      <td>Eastern</td>\n",
       "      <td>2068/69</td>\n",
       "      <td>2011/12</td>\n",
       "      <td>Female</td>\n",
       "      <td>15-19</td>\n",
       "      <td>398</td>\n",
       "    </tr>\n",
       "    <tr>\n",
       "      <th>1194</th>\n",
       "      <td>Udayapur</td>\n",
       "      <td>Sagarmatha</td>\n",
       "      <td>Hill</td>\n",
       "      <td>Eastern</td>\n",
       "      <td>2068/69</td>\n",
       "      <td>2011/12</td>\n",
       "      <td>Female</td>\n",
       "      <td>20-29</td>\n",
       "      <td>5015</td>\n",
       "    </tr>\n",
       "    <tr>\n",
       "      <th>1195</th>\n",
       "      <td>Udayapur</td>\n",
       "      <td>Sagarmatha</td>\n",
       "      <td>Hill</td>\n",
       "      <td>Eastern</td>\n",
       "      <td>2068/69</td>\n",
       "      <td>2011/12</td>\n",
       "      <td>Female</td>\n",
       "      <td>30-39</td>\n",
       "      <td>5391</td>\n",
       "    </tr>\n",
       "    <tr>\n",
       "      <th>1196</th>\n",
       "      <td>Udayapur</td>\n",
       "      <td>Sagarmatha</td>\n",
       "      <td>Hill</td>\n",
       "      <td>Eastern</td>\n",
       "      <td>2068/69</td>\n",
       "      <td>2011/12</td>\n",
       "      <td>Female</td>\n",
       "      <td>40-49</td>\n",
       "      <td>3425</td>\n",
       "    </tr>\n",
       "    <tr>\n",
       "      <th>1197</th>\n",
       "      <td>Udayapur</td>\n",
       "      <td>Sagarmatha</td>\n",
       "      <td>Hill</td>\n",
       "      <td>Eastern</td>\n",
       "      <td>2068/69</td>\n",
       "      <td>2011/12</td>\n",
       "      <td>Female</td>\n",
       "      <td>50-59</td>\n",
       "      <td>2246</td>\n",
       "    </tr>\n",
       "    <tr>\n",
       "      <th>1198</th>\n",
       "      <td>Udayapur</td>\n",
       "      <td>Sagarmatha</td>\n",
       "      <td>Hill</td>\n",
       "      <td>Eastern</td>\n",
       "      <td>2068/69</td>\n",
       "      <td>2011/12</td>\n",
       "      <td>Female</td>\n",
       "      <td>60-69</td>\n",
       "      <td>1851</td>\n",
       "    </tr>\n",
       "    <tr>\n",
       "      <th>1199</th>\n",
       "      <td>Udayapur</td>\n",
       "      <td>Sagarmatha</td>\n",
       "      <td>Hill</td>\n",
       "      <td>Eastern</td>\n",
       "      <td>2068/69</td>\n",
       "      <td>2011/12</td>\n",
       "      <td>Female</td>\n",
       "      <td>70 years &amp; above</td>\n",
       "      <td>914</td>\n",
       "    </tr>\n",
       "  </tbody>\n",
       "</table>\n",
       "</div>"
      ],
      "text/plain": [
       "      District        Zone Ecological Belt Development Region Year (BS)  \\\n",
       "1190  Udayapur  Sagarmatha            Hill            Eastern   2068/69   \n",
       "1191  Udayapur  Sagarmatha            Hill            Eastern   2068/69   \n",
       "1192  Udayapur  Sagarmatha            Hill            Eastern   2068/69   \n",
       "1193  Udayapur  Sagarmatha            Hill            Eastern   2068/69   \n",
       "1194  Udayapur  Sagarmatha            Hill            Eastern   2068/69   \n",
       "1195  Udayapur  Sagarmatha            Hill            Eastern   2068/69   \n",
       "1196  Udayapur  Sagarmatha            Hill            Eastern   2068/69   \n",
       "1197  Udayapur  Sagarmatha            Hill            Eastern   2068/69   \n",
       "1198  Udayapur  Sagarmatha            Hill            Eastern   2068/69   \n",
       "1199  Udayapur  Sagarmatha            Hill            Eastern   2068/69   \n",
       "\n",
       "     Year (AD)  Gender         Age-group  Value  \n",
       "1190   2011/12    Male             60-69   6348  \n",
       "1191   2011/12    Male  70 years & above   3236  \n",
       "1192   2011/12  Female             10-14     32  \n",
       "1193   2011/12  Female             15-19    398  \n",
       "1194   2011/12  Female             20-29   5015  \n",
       "1195   2011/12  Female             30-39   5391  \n",
       "1196   2011/12  Female             40-49   3425  \n",
       "1197   2011/12  Female             50-59   2246  \n",
       "1198   2011/12  Female             60-69   1851  \n",
       "1199   2011/12  Female  70 years & above    914  "
      ]
     },
     "execution_count": 5,
     "metadata": {},
     "output_type": "execute_result"
    }
   ],
   "source": [
    "df.tail(10)"
   ]
  },
  {
   "cell_type": "markdown",
   "metadata": {
    "colab_type": "text",
    "id": "Az_wN8kYngVX"
   },
   "source": [
    "# How many rows and columns?"
   ]
  },
  {
   "cell_type": "code",
   "execution_count": 6,
   "metadata": {
    "colab": {
     "base_uri": "https://localhost:8080/",
     "height": 34
    },
    "colab_type": "code",
    "id": "Ve9OzhCrlkvW",
    "outputId": "f60b7f9b-4f4b-4c4b-ea18-420a10640adc"
   },
   "outputs": [
    {
     "data": {
      "text/plain": [
       "(1200, 9)"
      ]
     },
     "execution_count": 6,
     "metadata": {},
     "output_type": "execute_result"
    }
   ],
   "source": [
    "df.shape"
   ]
  },
  {
   "cell_type": "code",
   "execution_count": 7,
   "metadata": {
    "colab": {
     "base_uri": "https://localhost:8080/",
     "height": 67
    },
    "colab_type": "code",
    "id": "R6bU1Tb2pefw",
    "outputId": "80fab1f5-1329-4762-d5fa-dc866459611b"
   },
   "outputs": [
    {
     "data": {
      "text/plain": [
       "Index(['District', 'Zone', 'Ecological Belt', 'Development Region',\n",
       "       'Year (BS)', 'Year (AD)', 'Gender', 'Age-group', 'Value'],\n",
       "      dtype='object')"
      ]
     },
     "execution_count": 7,
     "metadata": {},
     "output_type": "execute_result"
    }
   ],
   "source": [
    "df.columns"
   ]
  },
  {
   "cell_type": "code",
   "execution_count": 8,
   "metadata": {
    "colab": {
     "base_uri": "https://localhost:8080/",
     "height": 284
    },
    "colab_type": "code",
    "id": "hkJTyJRJpgLD",
    "outputId": "996ef7ff-e6b7-4bbf-9e7b-f9db42413da8"
   },
   "outputs": [
    {
     "data": {
      "text/html": [
       "<div>\n",
       "<style scoped>\n",
       "    .dataframe tbody tr th:only-of-type {\n",
       "        vertical-align: middle;\n",
       "    }\n",
       "\n",
       "    .dataframe tbody tr th {\n",
       "        vertical-align: top;\n",
       "    }\n",
       "\n",
       "    .dataframe thead th {\n",
       "        text-align: right;\n",
       "    }\n",
       "</style>\n",
       "<table border=\"1\" class=\"dataframe\">\n",
       "  <thead>\n",
       "    <tr style=\"text-align: right;\">\n",
       "      <th></th>\n",
       "      <th>Value</th>\n",
       "    </tr>\n",
       "  </thead>\n",
       "  <tbody>\n",
       "    <tr>\n",
       "      <th>count</th>\n",
       "      <td>1200.000000</td>\n",
       "    </tr>\n",
       "    <tr>\n",
       "      <th>mean</th>\n",
       "      <td>4522.751667</td>\n",
       "    </tr>\n",
       "    <tr>\n",
       "      <th>std</th>\n",
       "      <td>7030.197438</td>\n",
       "    </tr>\n",
       "    <tr>\n",
       "      <th>min</th>\n",
       "      <td>0.000000</td>\n",
       "    </tr>\n",
       "    <tr>\n",
       "      <th>25%</th>\n",
       "      <td>397.000000</td>\n",
       "    </tr>\n",
       "    <tr>\n",
       "      <th>50%</th>\n",
       "      <td>2180.500000</td>\n",
       "    </tr>\n",
       "    <tr>\n",
       "      <th>75%</th>\n",
       "      <td>5662.250000</td>\n",
       "    </tr>\n",
       "    <tr>\n",
       "      <th>max</th>\n",
       "      <td>84672.000000</td>\n",
       "    </tr>\n",
       "  </tbody>\n",
       "</table>\n",
       "</div>"
      ],
      "text/plain": [
       "              Value\n",
       "count   1200.000000\n",
       "mean    4522.751667\n",
       "std     7030.197438\n",
       "min        0.000000\n",
       "25%      397.000000\n",
       "50%     2180.500000\n",
       "75%     5662.250000\n",
       "max    84672.000000"
      ]
     },
     "execution_count": 8,
     "metadata": {},
     "output_type": "execute_result"
    }
   ],
   "source": [
    "df.describe()"
   ]
  },
  {
   "cell_type": "code",
   "execution_count": 9,
   "metadata": {
    "colab": {
     "base_uri": "https://localhost:8080/",
     "height": 252
    },
    "colab_type": "code",
    "id": "eERbI73apkBG",
    "outputId": "b0ac7ba1-c5c6-46c4-c40b-dc5b34d75229"
   },
   "outputs": [
    {
     "name": "stdout",
     "output_type": "stream",
     "text": [
      "<class 'pandas.core.frame.DataFrame'>\n",
      "RangeIndex: 1200 entries, 0 to 1199\n",
      "Data columns (total 9 columns):\n",
      "District              1200 non-null object\n",
      "Zone                  1200 non-null object\n",
      "Ecological Belt       1200 non-null object\n",
      "Development Region    1200 non-null object\n",
      "Year (BS)             1200 non-null object\n",
      "Year (AD)             1200 non-null object\n",
      "Gender                1200 non-null object\n",
      "Age-group             1200 non-null object\n",
      "Value                 1200 non-null int64\n",
      "dtypes: int64(1), object(8)\n",
      "memory usage: 84.5+ KB\n"
     ]
    }
   ],
   "source": [
    "df.info()"
   ]
  },
  {
   "cell_type": "markdown",
   "metadata": {
    "colab_type": "text",
    "id": "nYkGCUu8qXEf"
   },
   "source": [
    "# Make dataframes for each development region\n"
   ]
  },
  {
   "cell_type": "code",
   "execution_count": 10,
   "metadata": {
    "colab": {},
    "colab_type": "code",
    "id": "0cMRecDuqeCU"
   },
   "outputs": [],
   "source": [
    "far_western_df = df[df[\"Development Region\"] == \"Far-Western\"]\n",
    "mid_western_df = df[df[\"Development Region\"] == \"Mid-Western\"]\n",
    "western_df = df[df[\"Development Region\"] == \"Western\"]\n",
    "central_df = df[df[\"Development Region\"] == \"Central\"]\n",
    "eastern_df = df[df[\"Development Region\"] == \"Eastern\"]"
   ]
  },
  {
   "cell_type": "markdown",
   "metadata": {
    "colab_type": "text",
    "id": "jGBz1jp4sl-D"
   },
   "source": [
    "## How many districts are there in Far-Western Development Region?"
   ]
  },
  {
   "cell_type": "code",
   "execution_count": 11,
   "metadata": {
    "colab": {
     "base_uri": "https://localhost:8080/",
     "height": 50
    },
    "colab_type": "code",
    "id": "XAAD3psZqg5c",
    "outputId": "d86d8a4d-72ea-4a34-c9d1-692d9326a89e"
   },
   "outputs": [
    {
     "name": "stdout",
     "output_type": "stream",
     "text": [
      "There are 9 districts in Far Western\n",
      "Achham, Baitadi, Bajhang, Bajura, Dadeldhura, Darchula, Doti, Kailali, Kanchanpur\n"
     ]
    }
   ],
   "source": [
    "\n",
    "districts_in_far_western = far_western_df[\"District\"].unique()\n",
    "\n",
    "\n",
    "print(\"There are {} districts in Far Western\".format(far_western_df[\"District\"].nunique()))\n",
    "print(*districts_in_far_western, sep = \", \")"
   ]
  },
  {
   "cell_type": "markdown",
   "metadata": {
    "colab_type": "text",
    "id": "J4fSOWF_tR4a"
   },
   "source": [
    "## Find  total male population"
   ]
  },
  {
   "cell_type": "code",
   "execution_count": 12,
   "metadata": {
    "colab": {
     "base_uri": "https://localhost:8080/",
     "height": 34
    },
    "colab_type": "code",
    "id": "1RlGydcLtW-a",
    "outputId": "18780791-9c26-430c-f4a6-268f351fad99"
   },
   "outputs": [
    {
     "data": {
      "text/plain": [
       "4030610"
      ]
     },
     "execution_count": 12,
     "metadata": {},
     "output_type": "execute_result"
    }
   ],
   "source": [
    "male_df = df[df[\"Gender\"] == \"Male\"]\n",
    "male_df.head()\n",
    "\n",
    "male_df[\"Value\"].sum()"
   ]
  },
  {
   "cell_type": "markdown",
   "metadata": {
    "colab_type": "text",
    "id": "HAR2N2my5kuW"
   },
   "source": [
    "## Total Male Population of Gulmi\n",
    "\n",
    "\n",
    "\n",
    "\n"
   ]
  },
  {
   "cell_type": "code",
   "execution_count": 13,
   "metadata": {
    "colab": {
     "base_uri": "https://localhost:8080/",
     "height": 34
    },
    "colab_type": "code",
    "id": "X1Zdrs5E5q-l",
    "outputId": "e099b10a-4816-4ff4-aa0b-0b6d76747a36"
   },
   "outputs": [
    {
     "name": "stdout",
     "output_type": "stream",
     "text": [
      "37300\n"
     ]
    }
   ],
   "source": [
    "gulmi_male = male_df[male_df[\"District\"] == \"Gulmi\"]\n",
    "total_male_popn_gulmi = gulmi_male[\"Value\"].sum()\n",
    "print(total_male_popn_gulmi)"
   ]
  },
  {
   "cell_type": "markdown",
   "metadata": {
    "colab_type": "text",
    "id": "pfnQYXr_5vU7"
   },
   "source": [
    "## Total Male Population with age group 20-29"
   ]
  },
  {
   "cell_type": "code",
   "execution_count": 14,
   "metadata": {
    "colab": {
     "base_uri": "https://localhost:8080/",
     "height": 34
    },
    "colab_type": "code",
    "id": "kw2NkwS95rv4",
    "outputId": "bd21ed2b-2039-4383-bb8b-f74236e50051"
   },
   "outputs": [
    {
     "name": "stdout",
     "output_type": "stream",
     "text": [
      "458730\n"
     ]
    }
   ],
   "source": [
    "male_popn_20_29 = male_df[male_df[\"Age-group\"] == \"20-29\"]\n",
    "male_popn_20_29.head()\n",
    "print(male_popn_20_29[\"Value\"].sum())"
   ]
  },
  {
   "cell_type": "markdown",
   "metadata": {
    "colab_type": "text",
    "id": "JpsVOLDf6ZNy"
   },
   "source": [
    "## Total male population with age group 20-29 in Western Development Region"
   ]
  },
  {
   "cell_type": "code",
   "execution_count": 15,
   "metadata": {
    "colab": {
     "base_uri": "https://localhost:8080/",
     "height": 212
    },
    "colab_type": "code",
    "id": "nudWG_tH6JLj",
    "outputId": "98f80bcd-7665-4d09-b1b4-7de485d0fcc5"
   },
   "outputs": [
    {
     "name": "stdout",
     "output_type": "stream",
     "text": [
      "60191\n"
     ]
    },
    {
     "data": {
      "text/html": [
       "<div>\n",
       "<style scoped>\n",
       "    .dataframe tbody tr th:only-of-type {\n",
       "        vertical-align: middle;\n",
       "    }\n",
       "\n",
       "    .dataframe tbody tr th {\n",
       "        vertical-align: top;\n",
       "    }\n",
       "\n",
       "    .dataframe thead th {\n",
       "        text-align: right;\n",
       "    }\n",
       "</style>\n",
       "<table border=\"1\" class=\"dataframe\">\n",
       "  <thead>\n",
       "    <tr style=\"text-align: right;\">\n",
       "      <th></th>\n",
       "      <th>District</th>\n",
       "      <th>Zone</th>\n",
       "      <th>Ecological Belt</th>\n",
       "      <th>Development Region</th>\n",
       "      <th>Year (BS)</th>\n",
       "      <th>Year (AD)</th>\n",
       "      <th>Gender</th>\n",
       "      <th>Age-group</th>\n",
       "      <th>Value</th>\n",
       "    </tr>\n",
       "  </thead>\n",
       "  <tbody>\n",
       "    <tr>\n",
       "      <th>18</th>\n",
       "      <td>Arghakhanchi</td>\n",
       "      <td>Lumbini</td>\n",
       "      <td>Hill</td>\n",
       "      <td>Western</td>\n",
       "      <td>2068/69</td>\n",
       "      <td>2011/12</td>\n",
       "      <td>Male</td>\n",
       "      <td>20-29</td>\n",
       "      <td>1892</td>\n",
       "    </tr>\n",
       "    <tr>\n",
       "      <th>34</th>\n",
       "      <td>Baglung</td>\n",
       "      <td>Dhawalagiri</td>\n",
       "      <td>Hill</td>\n",
       "      <td>Western</td>\n",
       "      <td>2068/69</td>\n",
       "      <td>2011/12</td>\n",
       "      <td>Male</td>\n",
       "      <td>20-29</td>\n",
       "      <td>2860</td>\n",
       "    </tr>\n",
       "    <tr>\n",
       "      <th>354</th>\n",
       "      <td>Gorkha</td>\n",
       "      <td>Gandaki</td>\n",
       "      <td>Hill</td>\n",
       "      <td>Western</td>\n",
       "      <td>2068/69</td>\n",
       "      <td>2011/12</td>\n",
       "      <td>Male</td>\n",
       "      <td>20-29</td>\n",
       "      <td>2629</td>\n",
       "    </tr>\n",
       "    <tr>\n",
       "      <th>370</th>\n",
       "      <td>Gulmi</td>\n",
       "      <td>Lumbini</td>\n",
       "      <td>Hill</td>\n",
       "      <td>Western</td>\n",
       "      <td>2068/69</td>\n",
       "      <td>2011/12</td>\n",
       "      <td>Male</td>\n",
       "      <td>20-29</td>\n",
       "      <td>2205</td>\n",
       "    </tr>\n",
       "    <tr>\n",
       "      <th>514</th>\n",
       "      <td>Kapilbastu</td>\n",
       "      <td>Lumbini</td>\n",
       "      <td>Terai</td>\n",
       "      <td>Western</td>\n",
       "      <td>2068/69</td>\n",
       "      <td>2011/12</td>\n",
       "      <td>Male</td>\n",
       "      <td>20-29</td>\n",
       "      <td>5983</td>\n",
       "    </tr>\n",
       "  </tbody>\n",
       "</table>\n",
       "</div>"
      ],
      "text/plain": [
       "         District         Zone Ecological Belt Development Region Year (BS)  \\\n",
       "18   Arghakhanchi      Lumbini            Hill            Western   2068/69   \n",
       "34        Baglung  Dhawalagiri            Hill            Western   2068/69   \n",
       "354        Gorkha      Gandaki            Hill            Western   2068/69   \n",
       "370         Gulmi      Lumbini            Hill            Western   2068/69   \n",
       "514    Kapilbastu      Lumbini           Terai            Western   2068/69   \n",
       "\n",
       "    Year (AD) Gender Age-group  Value  \n",
       "18    2011/12   Male     20-29   1892  \n",
       "34    2011/12   Male     20-29   2860  \n",
       "354   2011/12   Male     20-29   2629  \n",
       "370   2011/12   Male     20-29   2205  \n",
       "514   2011/12   Male     20-29   5983  "
      ]
     },
     "execution_count": 15,
     "metadata": {},
     "output_type": "execute_result"
    }
   ],
   "source": [
    "male_popn_20_29_western = male_df[np.logical_and(male_df[\"Age-group\"] == \"20-29\", male_df[\"Development Region\"] == \"Western\")]\n",
    "\n",
    "print(male_popn_20_29_western[\"Value\"].sum())\n",
    "male_popn_20_29_western.head()"
   ]
  },
  {
   "cell_type": "markdown",
   "metadata": {
    "colab_type": "text",
    "id": "9_UgNcvC7P_f"
   },
   "source": [
    "## Least Populated Development Region"
   ]
  },
  {
   "cell_type": "code",
   "execution_count": 61,
   "metadata": {
    "colab": {},
    "colab_type": "code",
    "id": "LoUp9MLq64_z"
   },
   "outputs": [
    {
     "data": {
      "text/plain": [
       "Development Region\n",
       "Far-Western    469971\n",
       "Name: Value, dtype: int64"
      ]
     },
     "execution_count": 61,
     "metadata": {},
     "output_type": "execute_result"
    }
   ],
   "source": [
    "df.groupby(by = \"Development Region\")[\"Value\"].sum().sort_values().head(1)"
   ]
  },
  {
   "cell_type": "markdown",
   "metadata": {},
   "source": [
    "## Age Group with Most Population\n"
   ]
  },
  {
   "cell_type": "code",
   "execution_count": 71,
   "metadata": {},
   "outputs": [
    {
     "data": {
      "text/plain": [
       "Age-group\n",
       "30-39    1285500\n",
       "Name: Value, dtype: int64"
      ]
     },
     "execution_count": 71,
     "metadata": {},
     "output_type": "execute_result"
    }
   ],
   "source": [
    "df.groupby(by = \"Age-group\")[\"Value\"].sum().sort_values().tail(1)"
   ]
  },
  {
   "cell_type": "markdown",
   "metadata": {},
   "source": [
    "## Majority age group in Kavrepalanchok"
   ]
  },
  {
   "cell_type": "code",
   "execution_count": 87,
   "metadata": {},
   "outputs": [
    {
     "data": {
      "text/plain": [
       "Age-group\n",
       "40-49    18968\n",
       "Name: Value, dtype: int64"
      ]
     },
     "execution_count": 87,
     "metadata": {},
     "output_type": "execute_result"
    }
   ],
   "source": [
    "kavre_df = df[df[\"District\"] == \"Kavrepalanchok\"]\n",
    "kavre_df.groupby(by = \"Age-group\")[\"Value\"].sum().sort_values().tail(1)"
   ]
  },
  {
   "cell_type": "code",
   "execution_count": 82,
   "metadata": {},
   "outputs": [
    {
     "data": {
      "text/html": [
       "<div>\n",
       "<style scoped>\n",
       "    .dataframe tbody tr th:only-of-type {\n",
       "        vertical-align: middle;\n",
       "    }\n",
       "\n",
       "    .dataframe tbody tr th {\n",
       "        vertical-align: top;\n",
       "    }\n",
       "\n",
       "    .dataframe thead th {\n",
       "        text-align: right;\n",
       "    }\n",
       "</style>\n",
       "<table border=\"1\" class=\"dataframe\">\n",
       "  <thead>\n",
       "    <tr style=\"text-align: right;\">\n",
       "      <th></th>\n",
       "      <th>District</th>\n",
       "      <th>Zone</th>\n",
       "      <th>Ecological Belt</th>\n",
       "      <th>Development Region</th>\n",
       "      <th>Year (BS)</th>\n",
       "      <th>Year (AD)</th>\n",
       "      <th>Gender</th>\n",
       "      <th>Age-group</th>\n",
       "      <th>Value</th>\n",
       "    </tr>\n",
       "  </thead>\n",
       "  <tbody>\n",
       "    <tr>\n",
       "      <th>560</th>\n",
       "      <td>Kavrepalanchok</td>\n",
       "      <td>Bagmati</td>\n",
       "      <td>Hill</td>\n",
       "      <td>Central</td>\n",
       "      <td>2068/69</td>\n",
       "      <td>2011/12</td>\n",
       "      <td>Male</td>\n",
       "      <td>10-14</td>\n",
       "      <td>30</td>\n",
       "    </tr>\n",
       "    <tr>\n",
       "      <th>561</th>\n",
       "      <td>Kavrepalanchok</td>\n",
       "      <td>Bagmati</td>\n",
       "      <td>Hill</td>\n",
       "      <td>Central</td>\n",
       "      <td>2068/69</td>\n",
       "      <td>2011/12</td>\n",
       "      <td>Male</td>\n",
       "      <td>15-19</td>\n",
       "      <td>338</td>\n",
       "    </tr>\n",
       "    <tr>\n",
       "      <th>562</th>\n",
       "      <td>Kavrepalanchok</td>\n",
       "      <td>Bagmati</td>\n",
       "      <td>Hill</td>\n",
       "      <td>Central</td>\n",
       "      <td>2068/69</td>\n",
       "      <td>2011/12</td>\n",
       "      <td>Male</td>\n",
       "      <td>20-29</td>\n",
       "      <td>6184</td>\n",
       "    </tr>\n",
       "    <tr>\n",
       "      <th>563</th>\n",
       "      <td>Kavrepalanchok</td>\n",
       "      <td>Bagmati</td>\n",
       "      <td>Hill</td>\n",
       "      <td>Central</td>\n",
       "      <td>2068/69</td>\n",
       "      <td>2011/12</td>\n",
       "      <td>Male</td>\n",
       "      <td>30-39</td>\n",
       "      <td>13257</td>\n",
       "    </tr>\n",
       "    <tr>\n",
       "      <th>564</th>\n",
       "      <td>Kavrepalanchok</td>\n",
       "      <td>Bagmati</td>\n",
       "      <td>Hill</td>\n",
       "      <td>Central</td>\n",
       "      <td>2068/69</td>\n",
       "      <td>2011/12</td>\n",
       "      <td>Male</td>\n",
       "      <td>40-49</td>\n",
       "      <td>15763</td>\n",
       "    </tr>\n",
       "    <tr>\n",
       "      <th>565</th>\n",
       "      <td>Kavrepalanchok</td>\n",
       "      <td>Bagmati</td>\n",
       "      <td>Hill</td>\n",
       "      <td>Central</td>\n",
       "      <td>2068/69</td>\n",
       "      <td>2011/12</td>\n",
       "      <td>Male</td>\n",
       "      <td>50-59</td>\n",
       "      <td>13091</td>\n",
       "    </tr>\n",
       "    <tr>\n",
       "      <th>566</th>\n",
       "      <td>Kavrepalanchok</td>\n",
       "      <td>Bagmati</td>\n",
       "      <td>Hill</td>\n",
       "      <td>Central</td>\n",
       "      <td>2068/69</td>\n",
       "      <td>2011/12</td>\n",
       "      <td>Male</td>\n",
       "      <td>60-69</td>\n",
       "      <td>9006</td>\n",
       "    </tr>\n",
       "    <tr>\n",
       "      <th>567</th>\n",
       "      <td>Kavrepalanchok</td>\n",
       "      <td>Bagmati</td>\n",
       "      <td>Hill</td>\n",
       "      <td>Central</td>\n",
       "      <td>2068/69</td>\n",
       "      <td>2011/12</td>\n",
       "      <td>Male</td>\n",
       "      <td>70 years &amp; above</td>\n",
       "      <td>5881</td>\n",
       "    </tr>\n",
       "    <tr>\n",
       "      <th>568</th>\n",
       "      <td>Kavrepalanchok</td>\n",
       "      <td>Bagmati</td>\n",
       "      <td>Hill</td>\n",
       "      <td>Central</td>\n",
       "      <td>2068/69</td>\n",
       "      <td>2011/12</td>\n",
       "      <td>Female</td>\n",
       "      <td>10-14</td>\n",
       "      <td>23</td>\n",
       "    </tr>\n",
       "    <tr>\n",
       "      <th>569</th>\n",
       "      <td>Kavrepalanchok</td>\n",
       "      <td>Bagmati</td>\n",
       "      <td>Hill</td>\n",
       "      <td>Central</td>\n",
       "      <td>2068/69</td>\n",
       "      <td>2011/12</td>\n",
       "      <td>Female</td>\n",
       "      <td>15-19</td>\n",
       "      <td>220</td>\n",
       "    </tr>\n",
       "    <tr>\n",
       "      <th>570</th>\n",
       "      <td>Kavrepalanchok</td>\n",
       "      <td>Bagmati</td>\n",
       "      <td>Hill</td>\n",
       "      <td>Central</td>\n",
       "      <td>2068/69</td>\n",
       "      <td>2011/12</td>\n",
       "      <td>Female</td>\n",
       "      <td>20-29</td>\n",
       "      <td>2574</td>\n",
       "    </tr>\n",
       "    <tr>\n",
       "      <th>571</th>\n",
       "      <td>Kavrepalanchok</td>\n",
       "      <td>Bagmati</td>\n",
       "      <td>Hill</td>\n",
       "      <td>Central</td>\n",
       "      <td>2068/69</td>\n",
       "      <td>2011/12</td>\n",
       "      <td>Female</td>\n",
       "      <td>30-39</td>\n",
       "      <td>3999</td>\n",
       "    </tr>\n",
       "    <tr>\n",
       "      <th>572</th>\n",
       "      <td>Kavrepalanchok</td>\n",
       "      <td>Bagmati</td>\n",
       "      <td>Hill</td>\n",
       "      <td>Central</td>\n",
       "      <td>2068/69</td>\n",
       "      <td>2011/12</td>\n",
       "      <td>Female</td>\n",
       "      <td>40-49</td>\n",
       "      <td>3205</td>\n",
       "    </tr>\n",
       "    <tr>\n",
       "      <th>573</th>\n",
       "      <td>Kavrepalanchok</td>\n",
       "      <td>Bagmati</td>\n",
       "      <td>Hill</td>\n",
       "      <td>Central</td>\n",
       "      <td>2068/69</td>\n",
       "      <td>2011/12</td>\n",
       "      <td>Female</td>\n",
       "      <td>50-59</td>\n",
       "      <td>2631</td>\n",
       "    </tr>\n",
       "    <tr>\n",
       "      <th>574</th>\n",
       "      <td>Kavrepalanchok</td>\n",
       "      <td>Bagmati</td>\n",
       "      <td>Hill</td>\n",
       "      <td>Central</td>\n",
       "      <td>2068/69</td>\n",
       "      <td>2011/12</td>\n",
       "      <td>Female</td>\n",
       "      <td>60-69</td>\n",
       "      <td>2597</td>\n",
       "    </tr>\n",
       "    <tr>\n",
       "      <th>575</th>\n",
       "      <td>Kavrepalanchok</td>\n",
       "      <td>Bagmati</td>\n",
       "      <td>Hill</td>\n",
       "      <td>Central</td>\n",
       "      <td>2068/69</td>\n",
       "      <td>2011/12</td>\n",
       "      <td>Female</td>\n",
       "      <td>70 years &amp; above</td>\n",
       "      <td>1921</td>\n",
       "    </tr>\n",
       "  </tbody>\n",
       "</table>\n",
       "</div>"
      ],
      "text/plain": [
       "           District     Zone Ecological Belt Development Region Year (BS)  \\\n",
       "560  Kavrepalanchok  Bagmati            Hill            Central   2068/69   \n",
       "561  Kavrepalanchok  Bagmati            Hill            Central   2068/69   \n",
       "562  Kavrepalanchok  Bagmati            Hill            Central   2068/69   \n",
       "563  Kavrepalanchok  Bagmati            Hill            Central   2068/69   \n",
       "564  Kavrepalanchok  Bagmati            Hill            Central   2068/69   \n",
       "565  Kavrepalanchok  Bagmati            Hill            Central   2068/69   \n",
       "566  Kavrepalanchok  Bagmati            Hill            Central   2068/69   \n",
       "567  Kavrepalanchok  Bagmati            Hill            Central   2068/69   \n",
       "568  Kavrepalanchok  Bagmati            Hill            Central   2068/69   \n",
       "569  Kavrepalanchok  Bagmati            Hill            Central   2068/69   \n",
       "570  Kavrepalanchok  Bagmati            Hill            Central   2068/69   \n",
       "571  Kavrepalanchok  Bagmati            Hill            Central   2068/69   \n",
       "572  Kavrepalanchok  Bagmati            Hill            Central   2068/69   \n",
       "573  Kavrepalanchok  Bagmati            Hill            Central   2068/69   \n",
       "574  Kavrepalanchok  Bagmati            Hill            Central   2068/69   \n",
       "575  Kavrepalanchok  Bagmati            Hill            Central   2068/69   \n",
       "\n",
       "    Year (AD)  Gender         Age-group  Value  \n",
       "560   2011/12    Male             10-14     30  \n",
       "561   2011/12    Male             15-19    338  \n",
       "562   2011/12    Male             20-29   6184  \n",
       "563   2011/12    Male             30-39  13257  \n",
       "564   2011/12    Male             40-49  15763  \n",
       "565   2011/12    Male             50-59  13091  \n",
       "566   2011/12    Male             60-69   9006  \n",
       "567   2011/12    Male  70 years & above   5881  \n",
       "568   2011/12  Female             10-14     23  \n",
       "569   2011/12  Female             15-19    220  \n",
       "570   2011/12  Female             20-29   2574  \n",
       "571   2011/12  Female             30-39   3999  \n",
       "572   2011/12  Female             40-49   3205  \n",
       "573   2011/12  Female             50-59   2631  \n",
       "574   2011/12  Female             60-69   2597  \n",
       "575   2011/12  Female  70 years & above   1921  "
      ]
     },
     "execution_count": 82,
     "metadata": {},
     "output_type": "execute_result"
    }
   ],
   "source": []
  },
  {
   "cell_type": "markdown",
   "metadata": {},
   "source": [
    "## Total Population of Central Development Region"
   ]
  },
  {
   "cell_type": "code",
   "execution_count": 89,
   "metadata": {},
   "outputs": [
    {
     "data": {
      "text/plain": [
       "1964045"
      ]
     },
     "execution_count": 89,
     "metadata": {},
     "output_type": "execute_result"
    }
   ],
   "source": [
    "central_df[\"Value\"].sum()"
   ]
  },
  {
   "cell_type": "markdown",
   "metadata": {},
   "source": [
    "## Top 5 most populated districts"
   ]
  },
  {
   "cell_type": "code",
   "execution_count": 95,
   "metadata": {},
   "outputs": [
    {
     "data": {
      "text/plain": [
       "District\n",
       "Kathmandu    436344\n",
       "Morang       213997\n",
       "Jhapa        184552\n",
       "Rupandehi    163916\n",
       "Sunsari      162407\n",
       "Name: Value, dtype: int64"
      ]
     },
     "execution_count": 95,
     "metadata": {},
     "output_type": "execute_result"
    }
   ],
   "source": [
    "df.groupby(by = \"District\")[\"Value\"].sum().sort_values(ascending = False).head()"
   ]
  },
  {
   "cell_type": "markdown",
   "metadata": {},
   "source": [
    "## What  districts in Lumbini Zone"
   ]
  },
  {
   "cell_type": "code",
   "execution_count": 101,
   "metadata": {},
   "outputs": [
    {
     "data": {
      "text/plain": [
       "array(['Arghakhanchi', 'Gulmi', 'Kapilbastu', 'Nawalparasi', 'Palpa',\n",
       "       'Rupandehi'], dtype=object)"
      ]
     },
     "execution_count": 101,
     "metadata": {},
     "output_type": "execute_result"
    }
   ],
   "source": [
    "df_lumbini = df[df[\"Zone\"] == \"Lumbini\"]\n",
    "df_lumbini[\"District\"].unique()"
   ]
  },
  {
   "cell_type": "code",
   "execution_count": null,
   "metadata": {},
   "outputs": [],
   "source": []
  }
 ],
 "metadata": {
  "colab": {
   "collapsed_sections": [],
   "name": "Playing with Population Data(2068-69).ipynb",
   "provenance": [],
   "toc_visible": true,
   "version": "0.3.2"
  },
  "kernelspec": {
   "display_name": "Python 3",
   "language": "python",
   "name": "python3"
  },
  "language_info": {
   "codemirror_mode": {
    "name": "ipython",
    "version": 3
   },
   "file_extension": ".py",
   "mimetype": "text/x-python",
   "name": "python",
   "nbconvert_exporter": "python",
   "pygments_lexer": "ipython3",
   "version": "3.6.7"
  }
 },
 "nbformat": 4,
 "nbformat_minor": 1
}
