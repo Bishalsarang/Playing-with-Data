{
  "nbformat": 4,
  "nbformat_minor": 0,
  "metadata": {
    "colab": {
      "name": "Playing with Population Data(2068-69).ipynb",
      "version": "0.3.2",
      "provenance": [],
      "collapsed_sections": [],
      "toc_visible": true,
      "include_colab_link": true
    },
    "language_info": {
      "codemirror_mode": {
        "name": "ipython",
        "version": 3
      },
      "file_extension": ".py",
      "mimetype": "text/x-python",
      "name": "python",
      "nbconvert_exporter": "python",
      "pygments_lexer": "ipython3",
      "version": "3.6.7"
    },
    "kernelspec": {
      "name": "python3",
      "display_name": "Python 3"
    },
    "accelerator": "GPU"
  },
  "cells": [
    {
      "cell_type": "markdown",
      "metadata": {
        "id": "view-in-github",
        "colab_type": "text"
      },
      "source": [
        "<a href=\"https://colab.research.google.com/github/sarangbishal/Playing-with-Data/blob/master/Nepal%20Population(2011-12%20by%20age)/Playing_with_Population_Data(2068_69).ipynb\" target=\"_parent\"><img src=\"https://colab.research.google.com/assets/colab-badge.svg\" alt=\"Open In Colab\"/></a>"
      ]
    },
    {
      "cell_type": "markdown",
      "metadata": {
        "colab_type": "text",
        "id": "ChU4hYCujqCJ"
      },
      "source": [
        "# Import Required Library"
      ]
    },
    {
      "cell_type": "code",
      "metadata": {
        "colab_type": "code",
        "id": "V8VMv8NMjoB-",
        "colab": {}
      },
      "source": [
        "import numpy as np\n",
        "import pandas as pd\n",
        "import matplotlib.pyplot as plt\n",
        "%matplotlib inline"
      ],
      "execution_count": 0,
      "outputs": []
    },
    {
      "cell_type": "markdown",
      "metadata": {
        "colab_type": "text",
        "id": "Paii7mXaj0vZ"
      },
      "source": [
        "# Open CSV FILE from [here](https://github.com/opennepal/odp-census/blob/master/Population%20by%20sex%20and%20age-group/data.csv)"
      ]
    },
    {
      "cell_type": "markdown",
      "metadata": {
        "colab_type": "text",
        "id": "ayn-MwQAn8Th"
      },
      "source": [
        "If we look at the structure of csv file at given link, all the values are comma separated except the one after Year (AD) column\n",
        "\n",
        "For a quick fix, I fired up my notepad++ and did replace all with regex pattern *(,)\\s+(\\w)*\n",
        "and replace string *\\1\\2*\n",
        "\n"
      ]
    },
    {
      "cell_type": "code",
      "metadata": {
        "colab_type": "code",
        "id": "eqL-8TtXkS88",
        "colab": {}
      },
      "source": [
        "df = pd.read_csv(\"popn_by_age.csv\", sep = \",\")"
      ],
      "execution_count": 0,
      "outputs": []
    },
    {
      "cell_type": "code",
      "metadata": {
        "colab_type": "code",
        "id": "P7s-O0o7kX1i",
        "outputId": "6744a7bd-d35c-42fe-e5ec-f209748630c6",
        "colab": {
          "base_uri": "https://localhost:8080/",
          "height": 343
        }
      },
      "source": [
        "df.head(10)"
      ],
      "execution_count": 3,
      "outputs": [
        {
          "output_type": "execute_result",
          "data": {
            "text/html": [
              "<div>\n",
              "<style scoped>\n",
              "    .dataframe tbody tr th:only-of-type {\n",
              "        vertical-align: middle;\n",
              "    }\n",
              "\n",
              "    .dataframe tbody tr th {\n",
              "        vertical-align: top;\n",
              "    }\n",
              "\n",
              "    .dataframe thead th {\n",
              "        text-align: right;\n",
              "    }\n",
              "</style>\n",
              "<table border=\"1\" class=\"dataframe\">\n",
              "  <thead>\n",
              "    <tr style=\"text-align: right;\">\n",
              "      <th></th>\n",
              "      <th>District</th>\n",
              "      <th>Zone</th>\n",
              "      <th>Ecological Belt</th>\n",
              "      <th>Development Region</th>\n",
              "      <th>Year (BS)</th>\n",
              "      <th>Year (AD)</th>\n",
              "      <th>Gender</th>\n",
              "      <th>Age-group</th>\n",
              "      <th>Value</th>\n",
              "    </tr>\n",
              "  </thead>\n",
              "  <tbody>\n",
              "    <tr>\n",
              "      <th>0</th>\n",
              "      <td>Achham</td>\n",
              "      <td>Seti</td>\n",
              "      <td>Hill</td>\n",
              "      <td>Far-Western</td>\n",
              "      <td>2068/69</td>\n",
              "      <td>2011/12</td>\n",
              "      <td>Male</td>\n",
              "      <td>10-14</td>\n",
              "      <td>116</td>\n",
              "    </tr>\n",
              "    <tr>\n",
              "      <th>1</th>\n",
              "      <td>Achham</td>\n",
              "      <td>Seti</td>\n",
              "      <td>Hill</td>\n",
              "      <td>Far-Western</td>\n",
              "      <td>2068/69</td>\n",
              "      <td>2011/12</td>\n",
              "      <td>Male</td>\n",
              "      <td>15-19</td>\n",
              "      <td>750</td>\n",
              "    </tr>\n",
              "    <tr>\n",
              "      <th>2</th>\n",
              "      <td>Achham</td>\n",
              "      <td>Seti</td>\n",
              "      <td>Hill</td>\n",
              "      <td>Far-Western</td>\n",
              "      <td>2068/69</td>\n",
              "      <td>2011/12</td>\n",
              "      <td>Male</td>\n",
              "      <td>20-29</td>\n",
              "      <td>5643</td>\n",
              "    </tr>\n",
              "    <tr>\n",
              "      <th>3</th>\n",
              "      <td>Achham</td>\n",
              "      <td>Seti</td>\n",
              "      <td>Hill</td>\n",
              "      <td>Far-Western</td>\n",
              "      <td>2068/69</td>\n",
              "      <td>2011/12</td>\n",
              "      <td>Male</td>\n",
              "      <td>30-39</td>\n",
              "      <td>7856</td>\n",
              "    </tr>\n",
              "    <tr>\n",
              "      <th>4</th>\n",
              "      <td>Achham</td>\n",
              "      <td>Seti</td>\n",
              "      <td>Hill</td>\n",
              "      <td>Far-Western</td>\n",
              "      <td>2068/69</td>\n",
              "      <td>2011/12</td>\n",
              "      <td>Male</td>\n",
              "      <td>40-49</td>\n",
              "      <td>7096</td>\n",
              "    </tr>\n",
              "    <tr>\n",
              "      <th>5</th>\n",
              "      <td>Achham</td>\n",
              "      <td>Seti</td>\n",
              "      <td>Hill</td>\n",
              "      <td>Far-Western</td>\n",
              "      <td>2068/69</td>\n",
              "      <td>2011/12</td>\n",
              "      <td>Male</td>\n",
              "      <td>50-59</td>\n",
              "      <td>5650</td>\n",
              "    </tr>\n",
              "    <tr>\n",
              "      <th>6</th>\n",
              "      <td>Achham</td>\n",
              "      <td>Seti</td>\n",
              "      <td>Hill</td>\n",
              "      <td>Far-Western</td>\n",
              "      <td>2068/69</td>\n",
              "      <td>2011/12</td>\n",
              "      <td>Male</td>\n",
              "      <td>60-69</td>\n",
              "      <td>4495</td>\n",
              "    </tr>\n",
              "    <tr>\n",
              "      <th>7</th>\n",
              "      <td>Achham</td>\n",
              "      <td>Seti</td>\n",
              "      <td>Hill</td>\n",
              "      <td>Far-Western</td>\n",
              "      <td>2068/69</td>\n",
              "      <td>2011/12</td>\n",
              "      <td>Male</td>\n",
              "      <td>70 years &amp; above</td>\n",
              "      <td>2490</td>\n",
              "    </tr>\n",
              "    <tr>\n",
              "      <th>8</th>\n",
              "      <td>Achham</td>\n",
              "      <td>Seti</td>\n",
              "      <td>Hill</td>\n",
              "      <td>Far-Western</td>\n",
              "      <td>2068/69</td>\n",
              "      <td>2011/12</td>\n",
              "      <td>Female</td>\n",
              "      <td>10-14</td>\n",
              "      <td>39</td>\n",
              "    </tr>\n",
              "    <tr>\n",
              "      <th>9</th>\n",
              "      <td>Achham</td>\n",
              "      <td>Seti</td>\n",
              "      <td>Hill</td>\n",
              "      <td>Far-Western</td>\n",
              "      <td>2068/69</td>\n",
              "      <td>2011/12</td>\n",
              "      <td>Female</td>\n",
              "      <td>15-19</td>\n",
              "      <td>231</td>\n",
              "    </tr>\n",
              "  </tbody>\n",
              "</table>\n",
              "</div>"
            ],
            "text/plain": [
              "  District  Zone Ecological Belt Development Region Year (BS) Year (AD)  \\\n",
              "0   Achham  Seti            Hill        Far-Western   2068/69   2011/12   \n",
              "1   Achham  Seti            Hill        Far-Western   2068/69   2011/12   \n",
              "2   Achham  Seti            Hill        Far-Western   2068/69   2011/12   \n",
              "3   Achham  Seti            Hill        Far-Western   2068/69   2011/12   \n",
              "4   Achham  Seti            Hill        Far-Western   2068/69   2011/12   \n",
              "5   Achham  Seti            Hill        Far-Western   2068/69   2011/12   \n",
              "6   Achham  Seti            Hill        Far-Western   2068/69   2011/12   \n",
              "7   Achham  Seti            Hill        Far-Western   2068/69   2011/12   \n",
              "8   Achham  Seti            Hill        Far-Western   2068/69   2011/12   \n",
              "9   Achham  Seti            Hill        Far-Western   2068/69   2011/12   \n",
              "\n",
              "   Gender         Age-group  Value  \n",
              "0    Male             10-14    116  \n",
              "1    Male             15-19    750  \n",
              "2    Male             20-29   5643  \n",
              "3    Male             30-39   7856  \n",
              "4    Male             40-49   7096  \n",
              "5    Male             50-59   5650  \n",
              "6    Male             60-69   4495  \n",
              "7    Male  70 years & above   2490  \n",
              "8  Female             10-14     39  \n",
              "9  Female             15-19    231  "
            ]
          },
          "metadata": {
            "tags": []
          },
          "execution_count": 3
        }
      ]
    },
    {
      "cell_type": "code",
      "metadata": {
        "colab_type": "code",
        "id": "piyu4wVSqCCJ",
        "outputId": "f97d8015-b23f-403f-db56-3699b957c9b0",
        "colab": {
          "base_uri": "https://localhost:8080/",
          "height": 343
        }
      },
      "source": [
        "df.tail(10)"
      ],
      "execution_count": 4,
      "outputs": [
        {
          "output_type": "execute_result",
          "data": {
            "text/html": [
              "<div>\n",
              "<style scoped>\n",
              "    .dataframe tbody tr th:only-of-type {\n",
              "        vertical-align: middle;\n",
              "    }\n",
              "\n",
              "    .dataframe tbody tr th {\n",
              "        vertical-align: top;\n",
              "    }\n",
              "\n",
              "    .dataframe thead th {\n",
              "        text-align: right;\n",
              "    }\n",
              "</style>\n",
              "<table border=\"1\" class=\"dataframe\">\n",
              "  <thead>\n",
              "    <tr style=\"text-align: right;\">\n",
              "      <th></th>\n",
              "      <th>District</th>\n",
              "      <th>Zone</th>\n",
              "      <th>Ecological Belt</th>\n",
              "      <th>Development Region</th>\n",
              "      <th>Year (BS)</th>\n",
              "      <th>Year (AD)</th>\n",
              "      <th>Gender</th>\n",
              "      <th>Age-group</th>\n",
              "      <th>Value</th>\n",
              "    </tr>\n",
              "  </thead>\n",
              "  <tbody>\n",
              "    <tr>\n",
              "      <th>1190</th>\n",
              "      <td>Udayapur</td>\n",
              "      <td>Sagarmatha</td>\n",
              "      <td>Hill</td>\n",
              "      <td>Eastern</td>\n",
              "      <td>2068/69</td>\n",
              "      <td>2011/12</td>\n",
              "      <td>Male</td>\n",
              "      <td>60-69</td>\n",
              "      <td>6348</td>\n",
              "    </tr>\n",
              "    <tr>\n",
              "      <th>1191</th>\n",
              "      <td>Udayapur</td>\n",
              "      <td>Sagarmatha</td>\n",
              "      <td>Hill</td>\n",
              "      <td>Eastern</td>\n",
              "      <td>2068/69</td>\n",
              "      <td>2011/12</td>\n",
              "      <td>Male</td>\n",
              "      <td>70 years &amp; above</td>\n",
              "      <td>3236</td>\n",
              "    </tr>\n",
              "    <tr>\n",
              "      <th>1192</th>\n",
              "      <td>Udayapur</td>\n",
              "      <td>Sagarmatha</td>\n",
              "      <td>Hill</td>\n",
              "      <td>Eastern</td>\n",
              "      <td>2068/69</td>\n",
              "      <td>2011/12</td>\n",
              "      <td>Female</td>\n",
              "      <td>10-14</td>\n",
              "      <td>32</td>\n",
              "    </tr>\n",
              "    <tr>\n",
              "      <th>1193</th>\n",
              "      <td>Udayapur</td>\n",
              "      <td>Sagarmatha</td>\n",
              "      <td>Hill</td>\n",
              "      <td>Eastern</td>\n",
              "      <td>2068/69</td>\n",
              "      <td>2011/12</td>\n",
              "      <td>Female</td>\n",
              "      <td>15-19</td>\n",
              "      <td>398</td>\n",
              "    </tr>\n",
              "    <tr>\n",
              "      <th>1194</th>\n",
              "      <td>Udayapur</td>\n",
              "      <td>Sagarmatha</td>\n",
              "      <td>Hill</td>\n",
              "      <td>Eastern</td>\n",
              "      <td>2068/69</td>\n",
              "      <td>2011/12</td>\n",
              "      <td>Female</td>\n",
              "      <td>20-29</td>\n",
              "      <td>5015</td>\n",
              "    </tr>\n",
              "    <tr>\n",
              "      <th>1195</th>\n",
              "      <td>Udayapur</td>\n",
              "      <td>Sagarmatha</td>\n",
              "      <td>Hill</td>\n",
              "      <td>Eastern</td>\n",
              "      <td>2068/69</td>\n",
              "      <td>2011/12</td>\n",
              "      <td>Female</td>\n",
              "      <td>30-39</td>\n",
              "      <td>5391</td>\n",
              "    </tr>\n",
              "    <tr>\n",
              "      <th>1196</th>\n",
              "      <td>Udayapur</td>\n",
              "      <td>Sagarmatha</td>\n",
              "      <td>Hill</td>\n",
              "      <td>Eastern</td>\n",
              "      <td>2068/69</td>\n",
              "      <td>2011/12</td>\n",
              "      <td>Female</td>\n",
              "      <td>40-49</td>\n",
              "      <td>3425</td>\n",
              "    </tr>\n",
              "    <tr>\n",
              "      <th>1197</th>\n",
              "      <td>Udayapur</td>\n",
              "      <td>Sagarmatha</td>\n",
              "      <td>Hill</td>\n",
              "      <td>Eastern</td>\n",
              "      <td>2068/69</td>\n",
              "      <td>2011/12</td>\n",
              "      <td>Female</td>\n",
              "      <td>50-59</td>\n",
              "      <td>2246</td>\n",
              "    </tr>\n",
              "    <tr>\n",
              "      <th>1198</th>\n",
              "      <td>Udayapur</td>\n",
              "      <td>Sagarmatha</td>\n",
              "      <td>Hill</td>\n",
              "      <td>Eastern</td>\n",
              "      <td>2068/69</td>\n",
              "      <td>2011/12</td>\n",
              "      <td>Female</td>\n",
              "      <td>60-69</td>\n",
              "      <td>1851</td>\n",
              "    </tr>\n",
              "    <tr>\n",
              "      <th>1199</th>\n",
              "      <td>Udayapur</td>\n",
              "      <td>Sagarmatha</td>\n",
              "      <td>Hill</td>\n",
              "      <td>Eastern</td>\n",
              "      <td>2068/69</td>\n",
              "      <td>2011/12</td>\n",
              "      <td>Female</td>\n",
              "      <td>70 years &amp; above</td>\n",
              "      <td>914</td>\n",
              "    </tr>\n",
              "  </tbody>\n",
              "</table>\n",
              "</div>"
            ],
            "text/plain": [
              "      District        Zone Ecological Belt Development Region Year (BS)  \\\n",
              "1190  Udayapur  Sagarmatha            Hill            Eastern   2068/69   \n",
              "1191  Udayapur  Sagarmatha            Hill            Eastern   2068/69   \n",
              "1192  Udayapur  Sagarmatha            Hill            Eastern   2068/69   \n",
              "1193  Udayapur  Sagarmatha            Hill            Eastern   2068/69   \n",
              "1194  Udayapur  Sagarmatha            Hill            Eastern   2068/69   \n",
              "1195  Udayapur  Sagarmatha            Hill            Eastern   2068/69   \n",
              "1196  Udayapur  Sagarmatha            Hill            Eastern   2068/69   \n",
              "1197  Udayapur  Sagarmatha            Hill            Eastern   2068/69   \n",
              "1198  Udayapur  Sagarmatha            Hill            Eastern   2068/69   \n",
              "1199  Udayapur  Sagarmatha            Hill            Eastern   2068/69   \n",
              "\n",
              "     Year (AD)  Gender         Age-group  Value  \n",
              "1190   2011/12    Male             60-69   6348  \n",
              "1191   2011/12    Male  70 years & above   3236  \n",
              "1192   2011/12  Female             10-14     32  \n",
              "1193   2011/12  Female             15-19    398  \n",
              "1194   2011/12  Female             20-29   5015  \n",
              "1195   2011/12  Female             30-39   5391  \n",
              "1196   2011/12  Female             40-49   3425  \n",
              "1197   2011/12  Female             50-59   2246  \n",
              "1198   2011/12  Female             60-69   1851  \n",
              "1199   2011/12  Female  70 years & above    914  "
            ]
          },
          "metadata": {
            "tags": []
          },
          "execution_count": 4
        }
      ]
    },
    {
      "cell_type": "markdown",
      "metadata": {
        "colab_type": "text",
        "id": "Az_wN8kYngVX"
      },
      "source": [
        "# How many rows and columns?"
      ]
    },
    {
      "cell_type": "code",
      "metadata": {
        "colab_type": "code",
        "id": "Ve9OzhCrlkvW",
        "outputId": "59bbe4c9-1bf1-4e88-d158-4fc0082de932",
        "colab": {
          "base_uri": "https://localhost:8080/",
          "height": 34
        }
      },
      "source": [
        "df.shape"
      ],
      "execution_count": 5,
      "outputs": [
        {
          "output_type": "execute_result",
          "data": {
            "text/plain": [
              "(1200, 9)"
            ]
          },
          "metadata": {
            "tags": []
          },
          "execution_count": 5
        }
      ]
    },
    {
      "cell_type": "code",
      "metadata": {
        "colab_type": "code",
        "id": "R6bU1Tb2pefw",
        "outputId": "166acea8-0820-40c1-a7e8-cd121cc87335",
        "colab": {
          "base_uri": "https://localhost:8080/",
          "height": 67
        }
      },
      "source": [
        "df.columns"
      ],
      "execution_count": 6,
      "outputs": [
        {
          "output_type": "execute_result",
          "data": {
            "text/plain": [
              "Index(['District', 'Zone', 'Ecological Belt', 'Development Region',\n",
              "       'Year (BS)', 'Year (AD)', 'Gender', 'Age-group', 'Value'],\n",
              "      dtype='object')"
            ]
          },
          "metadata": {
            "tags": []
          },
          "execution_count": 6
        }
      ]
    },
    {
      "cell_type": "code",
      "metadata": {
        "colab_type": "code",
        "id": "hkJTyJRJpgLD",
        "outputId": "44971299-010d-4a70-c0c3-51fc3ea83599",
        "colab": {
          "base_uri": "https://localhost:8080/",
          "height": 284
        }
      },
      "source": [
        "df.describe()"
      ],
      "execution_count": 7,
      "outputs": [
        {
          "output_type": "execute_result",
          "data": {
            "text/html": [
              "<div>\n",
              "<style scoped>\n",
              "    .dataframe tbody tr th:only-of-type {\n",
              "        vertical-align: middle;\n",
              "    }\n",
              "\n",
              "    .dataframe tbody tr th {\n",
              "        vertical-align: top;\n",
              "    }\n",
              "\n",
              "    .dataframe thead th {\n",
              "        text-align: right;\n",
              "    }\n",
              "</style>\n",
              "<table border=\"1\" class=\"dataframe\">\n",
              "  <thead>\n",
              "    <tr style=\"text-align: right;\">\n",
              "      <th></th>\n",
              "      <th>Value</th>\n",
              "    </tr>\n",
              "  </thead>\n",
              "  <tbody>\n",
              "    <tr>\n",
              "      <th>count</th>\n",
              "      <td>1200.000000</td>\n",
              "    </tr>\n",
              "    <tr>\n",
              "      <th>mean</th>\n",
              "      <td>4522.751667</td>\n",
              "    </tr>\n",
              "    <tr>\n",
              "      <th>std</th>\n",
              "      <td>7030.197438</td>\n",
              "    </tr>\n",
              "    <tr>\n",
              "      <th>min</th>\n",
              "      <td>0.000000</td>\n",
              "    </tr>\n",
              "    <tr>\n",
              "      <th>25%</th>\n",
              "      <td>397.000000</td>\n",
              "    </tr>\n",
              "    <tr>\n",
              "      <th>50%</th>\n",
              "      <td>2180.500000</td>\n",
              "    </tr>\n",
              "    <tr>\n",
              "      <th>75%</th>\n",
              "      <td>5662.250000</td>\n",
              "    </tr>\n",
              "    <tr>\n",
              "      <th>max</th>\n",
              "      <td>84672.000000</td>\n",
              "    </tr>\n",
              "  </tbody>\n",
              "</table>\n",
              "</div>"
            ],
            "text/plain": [
              "              Value\n",
              "count   1200.000000\n",
              "mean    4522.751667\n",
              "std     7030.197438\n",
              "min        0.000000\n",
              "25%      397.000000\n",
              "50%     2180.500000\n",
              "75%     5662.250000\n",
              "max    84672.000000"
            ]
          },
          "metadata": {
            "tags": []
          },
          "execution_count": 7
        }
      ]
    },
    {
      "cell_type": "code",
      "metadata": {
        "colab_type": "code",
        "id": "eERbI73apkBG",
        "outputId": "fae35f3d-5427-4212-ef05-b50e557e62df",
        "colab": {
          "base_uri": "https://localhost:8080/",
          "height": 252
        }
      },
      "source": [
        "df.info()"
      ],
      "execution_count": 8,
      "outputs": [
        {
          "output_type": "stream",
          "text": [
            "<class 'pandas.core.frame.DataFrame'>\n",
            "RangeIndex: 1200 entries, 0 to 1199\n",
            "Data columns (total 9 columns):\n",
            "District              1200 non-null object\n",
            "Zone                  1200 non-null object\n",
            "Ecological Belt       1200 non-null object\n",
            "Development Region    1200 non-null object\n",
            "Year (BS)             1200 non-null object\n",
            "Year (AD)             1200 non-null object\n",
            "Gender                1200 non-null object\n",
            "Age-group             1200 non-null object\n",
            "Value                 1200 non-null int64\n",
            "dtypes: int64(1), object(8)\n",
            "memory usage: 84.5+ KB\n"
          ],
          "name": "stdout"
        }
      ]
    },
    {
      "cell_type": "markdown",
      "metadata": {
        "colab_type": "text",
        "id": "nYkGCUu8qXEf"
      },
      "source": [
        "# Make dataframes for each development region\n"
      ]
    },
    {
      "cell_type": "code",
      "metadata": {
        "colab_type": "code",
        "id": "0cMRecDuqeCU",
        "colab": {}
      },
      "source": [
        "far_western_df = df[df[\"Development Region\"] == \"Far-Western\"]\n",
        "mid_western_df = df[df[\"Development Region\"] == \"Mid-Western\"]\n",
        "western_df = df[df[\"Development Region\"] == \"Western\"]\n",
        "central_df = df[df[\"Development Region\"] == \"Central\"]\n",
        "eastern_df = df[df[\"Development Region\"] == \"Eastern\"]"
      ],
      "execution_count": 0,
      "outputs": []
    },
    {
      "cell_type": "markdown",
      "metadata": {
        "colab_type": "text",
        "id": "jGBz1jp4sl-D"
      },
      "source": [
        "## How many districts are there in Far-Western Development Region?"
      ]
    },
    {
      "cell_type": "code",
      "metadata": {
        "colab_type": "code",
        "id": "XAAD3psZqg5c",
        "outputId": "87ac63a1-d10c-46c4-b15d-73c9218d6e0b",
        "colab": {
          "base_uri": "https://localhost:8080/",
          "height": 50
        }
      },
      "source": [
        "\n",
        "districts_in_far_western = far_western_df[\"District\"].unique()\n",
        "\n",
        "\n",
        "print(\"There are {} districts in Far Western\".format(far_western_df[\"District\"].nunique()))\n",
        "print(*districts_in_far_western, sep = \", \")"
      ],
      "execution_count": 10,
      "outputs": [
        {
          "output_type": "stream",
          "text": [
            "There are 9 districts in Far Western\n",
            "Achham, Baitadi, Bajhang, Bajura, Dadeldhura, Darchula, Doti, Kailali, Kanchanpur\n"
          ],
          "name": "stdout"
        }
      ]
    },
    {
      "cell_type": "markdown",
      "metadata": {
        "colab_type": "text",
        "id": "J4fSOWF_tR4a"
      },
      "source": [
        "## Find  total male population"
      ]
    },
    {
      "cell_type": "code",
      "metadata": {
        "colab_type": "code",
        "id": "1RlGydcLtW-a",
        "outputId": "85561a00-498e-412f-b18d-a7c3a555c9fc",
        "colab": {
          "base_uri": "https://localhost:8080/",
          "height": 34
        }
      },
      "source": [
        "male_df = df[df[\"Gender\"] == \"Male\"]\n",
        "male_df.head()\n",
        "\n",
        "male_df[\"Value\"].sum()"
      ],
      "execution_count": 11,
      "outputs": [
        {
          "output_type": "execute_result",
          "data": {
            "text/plain": [
              "4030610"
            ]
          },
          "metadata": {
            "tags": []
          },
          "execution_count": 11
        }
      ]
    },
    {
      "cell_type": "markdown",
      "metadata": {
        "colab_type": "text",
        "id": "HAR2N2my5kuW"
      },
      "source": [
        "## Total Male Population of Gulmi\n",
        "\n",
        "\n",
        "\n",
        "\n"
      ]
    },
    {
      "cell_type": "code",
      "metadata": {
        "colab_type": "code",
        "id": "X1Zdrs5E5q-l",
        "outputId": "f857059b-d4a7-460f-d3d9-456c31abd741",
        "colab": {
          "base_uri": "https://localhost:8080/",
          "height": 34
        }
      },
      "source": [
        "gulmi_male = male_df[male_df[\"District\"] == \"Gulmi\"]\n",
        "total_male_popn_gulmi = gulmi_male[\"Value\"].sum()\n",
        "print(total_male_popn_gulmi)"
      ],
      "execution_count": 12,
      "outputs": [
        {
          "output_type": "stream",
          "text": [
            "37300\n"
          ],
          "name": "stdout"
        }
      ]
    },
    {
      "cell_type": "markdown",
      "metadata": {
        "colab_type": "text",
        "id": "pfnQYXr_5vU7"
      },
      "source": [
        "## Total Male Population with age group 20-29"
      ]
    },
    {
      "cell_type": "code",
      "metadata": {
        "colab_type": "code",
        "id": "kw2NkwS95rv4",
        "outputId": "fdc5e930-cf3a-4890-e4d4-906feeffc884",
        "colab": {
          "base_uri": "https://localhost:8080/",
          "height": 34
        }
      },
      "source": [
        "male_popn_20_29 = male_df[male_df[\"Age-group\"] == \"20-29\"]\n",
        "male_popn_20_29.head()\n",
        "print(male_popn_20_29[\"Value\"].sum())"
      ],
      "execution_count": 13,
      "outputs": [
        {
          "output_type": "stream",
          "text": [
            "458730\n"
          ],
          "name": "stdout"
        }
      ]
    },
    {
      "cell_type": "markdown",
      "metadata": {
        "colab_type": "text",
        "id": "JpsVOLDf6ZNy"
      },
      "source": [
        "## Total male population with age group 20-29 in Western Development Region"
      ]
    },
    {
      "cell_type": "code",
      "metadata": {
        "colab_type": "code",
        "id": "nudWG_tH6JLj",
        "outputId": "c50903ff-c88c-4e0d-90b1-27b244d4c1ca",
        "colab": {
          "base_uri": "https://localhost:8080/",
          "height": 212
        }
      },
      "source": [
        "male_popn_20_29_western = male_df[np.logical_and(male_df[\"Age-group\"] == \"20-29\", male_df[\"Development Region\"] == \"Western\")]\n",
        "\n",
        "print(male_popn_20_29_western[\"Value\"].sum())\n",
        "male_popn_20_29_western.head()"
      ],
      "execution_count": 14,
      "outputs": [
        {
          "output_type": "stream",
          "text": [
            "60191\n"
          ],
          "name": "stdout"
        },
        {
          "output_type": "execute_result",
          "data": {
            "text/html": [
              "<div>\n",
              "<style scoped>\n",
              "    .dataframe tbody tr th:only-of-type {\n",
              "        vertical-align: middle;\n",
              "    }\n",
              "\n",
              "    .dataframe tbody tr th {\n",
              "        vertical-align: top;\n",
              "    }\n",
              "\n",
              "    .dataframe thead th {\n",
              "        text-align: right;\n",
              "    }\n",
              "</style>\n",
              "<table border=\"1\" class=\"dataframe\">\n",
              "  <thead>\n",
              "    <tr style=\"text-align: right;\">\n",
              "      <th></th>\n",
              "      <th>District</th>\n",
              "      <th>Zone</th>\n",
              "      <th>Ecological Belt</th>\n",
              "      <th>Development Region</th>\n",
              "      <th>Year (BS)</th>\n",
              "      <th>Year (AD)</th>\n",
              "      <th>Gender</th>\n",
              "      <th>Age-group</th>\n",
              "      <th>Value</th>\n",
              "    </tr>\n",
              "  </thead>\n",
              "  <tbody>\n",
              "    <tr>\n",
              "      <th>18</th>\n",
              "      <td>Arghakhanchi</td>\n",
              "      <td>Lumbini</td>\n",
              "      <td>Hill</td>\n",
              "      <td>Western</td>\n",
              "      <td>2068/69</td>\n",
              "      <td>2011/12</td>\n",
              "      <td>Male</td>\n",
              "      <td>20-29</td>\n",
              "      <td>1892</td>\n",
              "    </tr>\n",
              "    <tr>\n",
              "      <th>34</th>\n",
              "      <td>Baglung</td>\n",
              "      <td>Dhawalagiri</td>\n",
              "      <td>Hill</td>\n",
              "      <td>Western</td>\n",
              "      <td>2068/69</td>\n",
              "      <td>2011/12</td>\n",
              "      <td>Male</td>\n",
              "      <td>20-29</td>\n",
              "      <td>2860</td>\n",
              "    </tr>\n",
              "    <tr>\n",
              "      <th>354</th>\n",
              "      <td>Gorkha</td>\n",
              "      <td>Gandaki</td>\n",
              "      <td>Hill</td>\n",
              "      <td>Western</td>\n",
              "      <td>2068/69</td>\n",
              "      <td>2011/12</td>\n",
              "      <td>Male</td>\n",
              "      <td>20-29</td>\n",
              "      <td>2629</td>\n",
              "    </tr>\n",
              "    <tr>\n",
              "      <th>370</th>\n",
              "      <td>Gulmi</td>\n",
              "      <td>Lumbini</td>\n",
              "      <td>Hill</td>\n",
              "      <td>Western</td>\n",
              "      <td>2068/69</td>\n",
              "      <td>2011/12</td>\n",
              "      <td>Male</td>\n",
              "      <td>20-29</td>\n",
              "      <td>2205</td>\n",
              "    </tr>\n",
              "    <tr>\n",
              "      <th>514</th>\n",
              "      <td>Kapilbastu</td>\n",
              "      <td>Lumbini</td>\n",
              "      <td>Terai</td>\n",
              "      <td>Western</td>\n",
              "      <td>2068/69</td>\n",
              "      <td>2011/12</td>\n",
              "      <td>Male</td>\n",
              "      <td>20-29</td>\n",
              "      <td>5983</td>\n",
              "    </tr>\n",
              "  </tbody>\n",
              "</table>\n",
              "</div>"
            ],
            "text/plain": [
              "         District         Zone Ecological Belt Development Region Year (BS)  \\\n",
              "18   Arghakhanchi      Lumbini            Hill            Western   2068/69   \n",
              "34        Baglung  Dhawalagiri            Hill            Western   2068/69   \n",
              "354        Gorkha      Gandaki            Hill            Western   2068/69   \n",
              "370         Gulmi      Lumbini            Hill            Western   2068/69   \n",
              "514    Kapilbastu      Lumbini           Terai            Western   2068/69   \n",
              "\n",
              "    Year (AD) Gender Age-group  Value  \n",
              "18    2011/12   Male     20-29   1892  \n",
              "34    2011/12   Male     20-29   2860  \n",
              "354   2011/12   Male     20-29   2629  \n",
              "370   2011/12   Male     20-29   2205  \n",
              "514   2011/12   Male     20-29   5983  "
            ]
          },
          "metadata": {
            "tags": []
          },
          "execution_count": 14
        }
      ]
    },
    {
      "cell_type": "markdown",
      "metadata": {
        "colab_type": "text",
        "id": "9_UgNcvC7P_f"
      },
      "source": [
        "## Population of each Development Region in Acending"
      ]
    },
    {
      "cell_type": "code",
      "metadata": {
        "colab_type": "code",
        "id": "LoUp9MLq64_z",
        "outputId": "ac2316b4-a0d0-421a-c321-03860359d59c",
        "colab": {
          "base_uri": "https://localhost:8080/",
          "height": 134
        }
      },
      "source": [
        "df.groupby(by = \"Development Region\")[\"Value\"].sum().sort_values()"
      ],
      "execution_count": 15,
      "outputs": [
        {
          "output_type": "execute_result",
          "data": {
            "text/plain": [
              "Development Region\n",
              "Far-Western     469971\n",
              "Mid-Western     695419\n",
              "Western        1066362\n",
              "Eastern        1231505\n",
              "Central        1964045\n",
              "Name: Value, dtype: int64"
            ]
          },
          "metadata": {
            "tags": []
          },
          "execution_count": 15
        }
      ]
    },
    {
      "cell_type": "markdown",
      "metadata": {
        "id": "VDPRhK_MzTgk",
        "colab_type": "text"
      },
      "source": [
        "## Age Group with Most Population\n"
      ]
    },
    {
      "cell_type": "code",
      "metadata": {
        "id": "alX2_hrKzTgk",
        "colab_type": "code",
        "outputId": "2bc77f14-75a2-49dc-a504-8406d1c06541",
        "colab": {
          "base_uri": "https://localhost:8080/",
          "height": 67
        }
      },
      "source": [
        "df.groupby(by = \"Age-group\")[\"Value\"].sum().sort_values().tail(1)"
      ],
      "execution_count": 16,
      "outputs": [
        {
          "output_type": "execute_result",
          "data": {
            "text/plain": [
              "Age-group\n",
              "30-39    1285500\n",
              "Name: Value, dtype: int64"
            ]
          },
          "metadata": {
            "tags": []
          },
          "execution_count": 16
        }
      ]
    },
    {
      "cell_type": "markdown",
      "metadata": {
        "id": "XBJPBJ_pzTgn",
        "colab_type": "text"
      },
      "source": [
        "## Majority age group in Kavrepalanchok"
      ]
    },
    {
      "cell_type": "code",
      "metadata": {
        "id": "_5YF1YNqzTgn",
        "colab_type": "code",
        "outputId": "d2bb5502-9992-48fb-fd9d-b0f1f8c55b15",
        "colab": {
          "base_uri": "https://localhost:8080/",
          "height": 67
        }
      },
      "source": [
        "kavre_df = df[df[\"District\"] == \"Kavrepalanchok\"]\n",
        "kavre_df.groupby(by = \"Age-group\")[\"Value\"].sum().sort_values().tail(1)"
      ],
      "execution_count": 17,
      "outputs": [
        {
          "output_type": "execute_result",
          "data": {
            "text/plain": [
              "Age-group\n",
              "40-49    18968\n",
              "Name: Value, dtype: int64"
            ]
          },
          "metadata": {
            "tags": []
          },
          "execution_count": 17
        }
      ]
    },
    {
      "cell_type": "markdown",
      "metadata": {
        "id": "B0GmlZlpzTgq",
        "colab_type": "text"
      },
      "source": [
        "## Total Population of Central Development Region"
      ]
    },
    {
      "cell_type": "code",
      "metadata": {
        "id": "O1ii5Tj7zTgq",
        "colab_type": "code",
        "outputId": "58472eaa-87d5-4f2b-ecff-54a45caab047",
        "colab": {
          "base_uri": "https://localhost:8080/",
          "height": 34
        }
      },
      "source": [
        "central_df[\"Value\"].sum()"
      ],
      "execution_count": 18,
      "outputs": [
        {
          "output_type": "execute_result",
          "data": {
            "text/plain": [
              "1964045"
            ]
          },
          "metadata": {
            "tags": []
          },
          "execution_count": 18
        }
      ]
    },
    {
      "cell_type": "markdown",
      "metadata": {
        "id": "E-9Cnyn7zTgs",
        "colab_type": "text"
      },
      "source": [
        "## Top 5 most populated districts"
      ]
    },
    {
      "cell_type": "code",
      "metadata": {
        "id": "UKvJ9RPRzTgt",
        "colab_type": "code",
        "outputId": "c225634e-f4f7-4a5e-feb2-cede148676bb",
        "colab": {
          "base_uri": "https://localhost:8080/",
          "height": 134
        }
      },
      "source": [
        "df.groupby(by = \"District\")[\"Value\"].sum().sort_values(ascending = False).head()"
      ],
      "execution_count": 19,
      "outputs": [
        {
          "output_type": "execute_result",
          "data": {
            "text/plain": [
              "District\n",
              "Kathmandu    436344\n",
              "Morang       213997\n",
              "Jhapa        184552\n",
              "Rupandehi    163916\n",
              "Sunsari      162407\n",
              "Name: Value, dtype: int64"
            ]
          },
          "metadata": {
            "tags": []
          },
          "execution_count": 19
        }
      ]
    },
    {
      "cell_type": "markdown",
      "metadata": {
        "id": "daZJd2fWzTgw",
        "colab_type": "text"
      },
      "source": [
        "## What  districts in Lumbini Zone"
      ]
    },
    {
      "cell_type": "code",
      "metadata": {
        "id": "0-9IawovzTgw",
        "colab_type": "code",
        "outputId": "ee3c89aa-5f9e-46af-c717-17a2ff979348",
        "colab": {
          "base_uri": "https://localhost:8080/",
          "height": 50
        }
      },
      "source": [
        "df_lumbini = df[df[\"Zone\"] == \"Lumbini\"]\n",
        "df_lumbini[\"District\"].unique()"
      ],
      "execution_count": 20,
      "outputs": [
        {
          "output_type": "execute_result",
          "data": {
            "text/plain": [
              "array(['Arghakhanchi', 'Gulmi', 'Kapilbastu', 'Nawalparasi', 'Palpa',\n",
              "       'Rupandehi'], dtype=object)"
            ]
          },
          "metadata": {
            "tags": []
          },
          "execution_count": 20
        }
      ]
    },
    {
      "cell_type": "markdown",
      "metadata": {
        "id": "NXzkvzqDzTgz",
        "colab_type": "text"
      },
      "source": [
        "## Sort DataFrame by Develeopment Region followed by Zone Followed by District"
      ]
    },
    {
      "cell_type": "code",
      "metadata": {
        "id": "uj54YhEazTg0",
        "colab_type": "code",
        "outputId": "073969d8-184b-4b6e-ba43-62565216377a",
        "colab": {
          "base_uri": "https://localhost:8080/",
          "height": 639
        }
      },
      "source": [
        "df.sort_values(by = [\"Development Region\", \"Zone\", \"District\"]).head(20)"
      ],
      "execution_count": 21,
      "outputs": [
        {
          "output_type": "execute_result",
          "data": {
            "text/html": [
              "<div>\n",
              "<style scoped>\n",
              "    .dataframe tbody tr th:only-of-type {\n",
              "        vertical-align: middle;\n",
              "    }\n",
              "\n",
              "    .dataframe tbody tr th {\n",
              "        vertical-align: top;\n",
              "    }\n",
              "\n",
              "    .dataframe thead th {\n",
              "        text-align: right;\n",
              "    }\n",
              "</style>\n",
              "<table border=\"1\" class=\"dataframe\">\n",
              "  <thead>\n",
              "    <tr style=\"text-align: right;\">\n",
              "      <th></th>\n",
              "      <th>District</th>\n",
              "      <th>Zone</th>\n",
              "      <th>Ecological Belt</th>\n",
              "      <th>Development Region</th>\n",
              "      <th>Year (BS)</th>\n",
              "      <th>Year (AD)</th>\n",
              "      <th>Gender</th>\n",
              "      <th>Age-group</th>\n",
              "      <th>Value</th>\n",
              "    </tr>\n",
              "  </thead>\n",
              "  <tbody>\n",
              "    <tr>\n",
              "      <th>144</th>\n",
              "      <td>Bhaktapur</td>\n",
              "      <td>Bagmati</td>\n",
              "      <td>Hill</td>\n",
              "      <td>Central</td>\n",
              "      <td>2068/69</td>\n",
              "      <td>2011/12</td>\n",
              "      <td>Male</td>\n",
              "      <td>10-14</td>\n",
              "      <td>42</td>\n",
              "    </tr>\n",
              "    <tr>\n",
              "      <th>145</th>\n",
              "      <td>Bhaktapur</td>\n",
              "      <td>Bagmati</td>\n",
              "      <td>Hill</td>\n",
              "      <td>Central</td>\n",
              "      <td>2068/69</td>\n",
              "      <td>2011/12</td>\n",
              "      <td>Male</td>\n",
              "      <td>15-19</td>\n",
              "      <td>744</td>\n",
              "    </tr>\n",
              "    <tr>\n",
              "      <th>146</th>\n",
              "      <td>Bhaktapur</td>\n",
              "      <td>Bagmati</td>\n",
              "      <td>Hill</td>\n",
              "      <td>Central</td>\n",
              "      <td>2068/69</td>\n",
              "      <td>2011/12</td>\n",
              "      <td>Male</td>\n",
              "      <td>20-29</td>\n",
              "      <td>7808</td>\n",
              "    </tr>\n",
              "    <tr>\n",
              "      <th>147</th>\n",
              "      <td>Bhaktapur</td>\n",
              "      <td>Bagmati</td>\n",
              "      <td>Hill</td>\n",
              "      <td>Central</td>\n",
              "      <td>2068/69</td>\n",
              "      <td>2011/12</td>\n",
              "      <td>Male</td>\n",
              "      <td>30-39</td>\n",
              "      <td>13918</td>\n",
              "    </tr>\n",
              "    <tr>\n",
              "      <th>148</th>\n",
              "      <td>Bhaktapur</td>\n",
              "      <td>Bagmati</td>\n",
              "      <td>Hill</td>\n",
              "      <td>Central</td>\n",
              "      <td>2068/69</td>\n",
              "      <td>2011/12</td>\n",
              "      <td>Male</td>\n",
              "      <td>40-49</td>\n",
              "      <td>13770</td>\n",
              "    </tr>\n",
              "    <tr>\n",
              "      <th>149</th>\n",
              "      <td>Bhaktapur</td>\n",
              "      <td>Bagmati</td>\n",
              "      <td>Hill</td>\n",
              "      <td>Central</td>\n",
              "      <td>2068/69</td>\n",
              "      <td>2011/12</td>\n",
              "      <td>Male</td>\n",
              "      <td>50-59</td>\n",
              "      <td>8553</td>\n",
              "    </tr>\n",
              "    <tr>\n",
              "      <th>150</th>\n",
              "      <td>Bhaktapur</td>\n",
              "      <td>Bagmati</td>\n",
              "      <td>Hill</td>\n",
              "      <td>Central</td>\n",
              "      <td>2068/69</td>\n",
              "      <td>2011/12</td>\n",
              "      <td>Male</td>\n",
              "      <td>60-69</td>\n",
              "      <td>5211</td>\n",
              "    </tr>\n",
              "    <tr>\n",
              "      <th>151</th>\n",
              "      <td>Bhaktapur</td>\n",
              "      <td>Bagmati</td>\n",
              "      <td>Hill</td>\n",
              "      <td>Central</td>\n",
              "      <td>2068/69</td>\n",
              "      <td>2011/12</td>\n",
              "      <td>Male</td>\n",
              "      <td>70 years &amp; above</td>\n",
              "      <td>3359</td>\n",
              "    </tr>\n",
              "    <tr>\n",
              "      <th>152</th>\n",
              "      <td>Bhaktapur</td>\n",
              "      <td>Bagmati</td>\n",
              "      <td>Hill</td>\n",
              "      <td>Central</td>\n",
              "      <td>2068/69</td>\n",
              "      <td>2011/12</td>\n",
              "      <td>Female</td>\n",
              "      <td>10-14</td>\n",
              "      <td>24</td>\n",
              "    </tr>\n",
              "    <tr>\n",
              "      <th>153</th>\n",
              "      <td>Bhaktapur</td>\n",
              "      <td>Bagmati</td>\n",
              "      <td>Hill</td>\n",
              "      <td>Central</td>\n",
              "      <td>2068/69</td>\n",
              "      <td>2011/12</td>\n",
              "      <td>Female</td>\n",
              "      <td>15-19</td>\n",
              "      <td>375</td>\n",
              "    </tr>\n",
              "    <tr>\n",
              "      <th>154</th>\n",
              "      <td>Bhaktapur</td>\n",
              "      <td>Bagmati</td>\n",
              "      <td>Hill</td>\n",
              "      <td>Central</td>\n",
              "      <td>2068/69</td>\n",
              "      <td>2011/12</td>\n",
              "      <td>Female</td>\n",
              "      <td>20-29</td>\n",
              "      <td>3788</td>\n",
              "    </tr>\n",
              "    <tr>\n",
              "      <th>155</th>\n",
              "      <td>Bhaktapur</td>\n",
              "      <td>Bagmati</td>\n",
              "      <td>Hill</td>\n",
              "      <td>Central</td>\n",
              "      <td>2068/69</td>\n",
              "      <td>2011/12</td>\n",
              "      <td>Female</td>\n",
              "      <td>30-39</td>\n",
              "      <td>3850</td>\n",
              "    </tr>\n",
              "    <tr>\n",
              "      <th>156</th>\n",
              "      <td>Bhaktapur</td>\n",
              "      <td>Bagmati</td>\n",
              "      <td>Hill</td>\n",
              "      <td>Central</td>\n",
              "      <td>2068/69</td>\n",
              "      <td>2011/12</td>\n",
              "      <td>Female</td>\n",
              "      <td>40-49</td>\n",
              "      <td>2437</td>\n",
              "    </tr>\n",
              "    <tr>\n",
              "      <th>157</th>\n",
              "      <td>Bhaktapur</td>\n",
              "      <td>Bagmati</td>\n",
              "      <td>Hill</td>\n",
              "      <td>Central</td>\n",
              "      <td>2068/69</td>\n",
              "      <td>2011/12</td>\n",
              "      <td>Female</td>\n",
              "      <td>50-59</td>\n",
              "      <td>1786</td>\n",
              "    </tr>\n",
              "    <tr>\n",
              "      <th>158</th>\n",
              "      <td>Bhaktapur</td>\n",
              "      <td>Bagmati</td>\n",
              "      <td>Hill</td>\n",
              "      <td>Central</td>\n",
              "      <td>2068/69</td>\n",
              "      <td>2011/12</td>\n",
              "      <td>Female</td>\n",
              "      <td>60-69</td>\n",
              "      <td>1738</td>\n",
              "    </tr>\n",
              "    <tr>\n",
              "      <th>159</th>\n",
              "      <td>Bhaktapur</td>\n",
              "      <td>Bagmati</td>\n",
              "      <td>Hill</td>\n",
              "      <td>Central</td>\n",
              "      <td>2068/69</td>\n",
              "      <td>2011/12</td>\n",
              "      <td>Female</td>\n",
              "      <td>70 years &amp; above</td>\n",
              "      <td>1233</td>\n",
              "    </tr>\n",
              "    <tr>\n",
              "      <th>256</th>\n",
              "      <td>Dhading</td>\n",
              "      <td>Bagmati</td>\n",
              "      <td>Hill</td>\n",
              "      <td>Central</td>\n",
              "      <td>2068/69</td>\n",
              "      <td>2011/12</td>\n",
              "      <td>Male</td>\n",
              "      <td>10-14</td>\n",
              "      <td>32</td>\n",
              "    </tr>\n",
              "    <tr>\n",
              "      <th>257</th>\n",
              "      <td>Dhading</td>\n",
              "      <td>Bagmati</td>\n",
              "      <td>Hill</td>\n",
              "      <td>Central</td>\n",
              "      <td>2068/69</td>\n",
              "      <td>2011/12</td>\n",
              "      <td>Male</td>\n",
              "      <td>15-19</td>\n",
              "      <td>368</td>\n",
              "    </tr>\n",
              "    <tr>\n",
              "      <th>258</th>\n",
              "      <td>Dhading</td>\n",
              "      <td>Bagmati</td>\n",
              "      <td>Hill</td>\n",
              "      <td>Central</td>\n",
              "      <td>2068/69</td>\n",
              "      <td>2011/12</td>\n",
              "      <td>Male</td>\n",
              "      <td>20-29</td>\n",
              "      <td>5312</td>\n",
              "    </tr>\n",
              "    <tr>\n",
              "      <th>259</th>\n",
              "      <td>Dhading</td>\n",
              "      <td>Bagmati</td>\n",
              "      <td>Hill</td>\n",
              "      <td>Central</td>\n",
              "      <td>2068/69</td>\n",
              "      <td>2011/12</td>\n",
              "      <td>Male</td>\n",
              "      <td>30-39</td>\n",
              "      <td>10129</td>\n",
              "    </tr>\n",
              "  </tbody>\n",
              "</table>\n",
              "</div>"
            ],
            "text/plain": [
              "      District     Zone Ecological Belt Development Region Year (BS)  \\\n",
              "144  Bhaktapur  Bagmati            Hill            Central   2068/69   \n",
              "145  Bhaktapur  Bagmati            Hill            Central   2068/69   \n",
              "146  Bhaktapur  Bagmati            Hill            Central   2068/69   \n",
              "147  Bhaktapur  Bagmati            Hill            Central   2068/69   \n",
              "148  Bhaktapur  Bagmati            Hill            Central   2068/69   \n",
              "149  Bhaktapur  Bagmati            Hill            Central   2068/69   \n",
              "150  Bhaktapur  Bagmati            Hill            Central   2068/69   \n",
              "151  Bhaktapur  Bagmati            Hill            Central   2068/69   \n",
              "152  Bhaktapur  Bagmati            Hill            Central   2068/69   \n",
              "153  Bhaktapur  Bagmati            Hill            Central   2068/69   \n",
              "154  Bhaktapur  Bagmati            Hill            Central   2068/69   \n",
              "155  Bhaktapur  Bagmati            Hill            Central   2068/69   \n",
              "156  Bhaktapur  Bagmati            Hill            Central   2068/69   \n",
              "157  Bhaktapur  Bagmati            Hill            Central   2068/69   \n",
              "158  Bhaktapur  Bagmati            Hill            Central   2068/69   \n",
              "159  Bhaktapur  Bagmati            Hill            Central   2068/69   \n",
              "256    Dhading  Bagmati            Hill            Central   2068/69   \n",
              "257    Dhading  Bagmati            Hill            Central   2068/69   \n",
              "258    Dhading  Bagmati            Hill            Central   2068/69   \n",
              "259    Dhading  Bagmati            Hill            Central   2068/69   \n",
              "\n",
              "    Year (AD)  Gender         Age-group  Value  \n",
              "144   2011/12    Male             10-14     42  \n",
              "145   2011/12    Male             15-19    744  \n",
              "146   2011/12    Male             20-29   7808  \n",
              "147   2011/12    Male             30-39  13918  \n",
              "148   2011/12    Male             40-49  13770  \n",
              "149   2011/12    Male             50-59   8553  \n",
              "150   2011/12    Male             60-69   5211  \n",
              "151   2011/12    Male  70 years & above   3359  \n",
              "152   2011/12  Female             10-14     24  \n",
              "153   2011/12  Female             15-19    375  \n",
              "154   2011/12  Female             20-29   3788  \n",
              "155   2011/12  Female             30-39   3850  \n",
              "156   2011/12  Female             40-49   2437  \n",
              "157   2011/12  Female             50-59   1786  \n",
              "158   2011/12  Female             60-69   1738  \n",
              "159   2011/12  Female  70 years & above   1233  \n",
              "256   2011/12    Male             10-14     32  \n",
              "257   2011/12    Male             15-19    368  \n",
              "258   2011/12    Male             20-29   5312  \n",
              "259   2011/12    Male             30-39  10129  "
            ]
          },
          "metadata": {
            "tags": []
          },
          "execution_count": 21
        }
      ]
    },
    {
      "cell_type": "markdown",
      "metadata": {
        "id": "6PDDz6HWzTg2",
        "colab_type": "text"
      },
      "source": [
        "## Find the name of the districts that starts with G"
      ]
    },
    {
      "cell_type": "code",
      "metadata": {
        "id": "LEMJrljozTg3",
        "colab_type": "code",
        "outputId": "1ffa6ca8-65ee-4b93-a2bf-0903110e80d8",
        "colab": {
          "base_uri": "https://localhost:8080/",
          "height": 994
        }
      },
      "source": [
        "df[df[\"District\"].str.startswith(\"G\")]"
      ],
      "execution_count": 22,
      "outputs": [
        {
          "output_type": "execute_result",
          "data": {
            "text/html": [
              "<div>\n",
              "<style scoped>\n",
              "    .dataframe tbody tr th:only-of-type {\n",
              "        vertical-align: middle;\n",
              "    }\n",
              "\n",
              "    .dataframe tbody tr th {\n",
              "        vertical-align: top;\n",
              "    }\n",
              "\n",
              "    .dataframe thead th {\n",
              "        text-align: right;\n",
              "    }\n",
              "</style>\n",
              "<table border=\"1\" class=\"dataframe\">\n",
              "  <thead>\n",
              "    <tr style=\"text-align: right;\">\n",
              "      <th></th>\n",
              "      <th>District</th>\n",
              "      <th>Zone</th>\n",
              "      <th>Ecological Belt</th>\n",
              "      <th>Development Region</th>\n",
              "      <th>Year (BS)</th>\n",
              "      <th>Year (AD)</th>\n",
              "      <th>Gender</th>\n",
              "      <th>Age-group</th>\n",
              "      <th>Value</th>\n",
              "    </tr>\n",
              "  </thead>\n",
              "  <tbody>\n",
              "    <tr>\n",
              "      <th>352</th>\n",
              "      <td>Gorkha</td>\n",
              "      <td>Gandaki</td>\n",
              "      <td>Hill</td>\n",
              "      <td>Western</td>\n",
              "      <td>2068/69</td>\n",
              "      <td>2011/12</td>\n",
              "      <td>Male</td>\n",
              "      <td>10-14</td>\n",
              "      <td>37</td>\n",
              "    </tr>\n",
              "    <tr>\n",
              "      <th>353</th>\n",
              "      <td>Gorkha</td>\n",
              "      <td>Gandaki</td>\n",
              "      <td>Hill</td>\n",
              "      <td>Western</td>\n",
              "      <td>2068/69</td>\n",
              "      <td>2011/12</td>\n",
              "      <td>Male</td>\n",
              "      <td>15-19</td>\n",
              "      <td>292</td>\n",
              "    </tr>\n",
              "    <tr>\n",
              "      <th>354</th>\n",
              "      <td>Gorkha</td>\n",
              "      <td>Gandaki</td>\n",
              "      <td>Hill</td>\n",
              "      <td>Western</td>\n",
              "      <td>2068/69</td>\n",
              "      <td>2011/12</td>\n",
              "      <td>Male</td>\n",
              "      <td>20-29</td>\n",
              "      <td>2629</td>\n",
              "    </tr>\n",
              "    <tr>\n",
              "      <th>355</th>\n",
              "      <td>Gorkha</td>\n",
              "      <td>Gandaki</td>\n",
              "      <td>Hill</td>\n",
              "      <td>Western</td>\n",
              "      <td>2068/69</td>\n",
              "      <td>2011/12</td>\n",
              "      <td>Male</td>\n",
              "      <td>30-39</td>\n",
              "      <td>6122</td>\n",
              "    </tr>\n",
              "    <tr>\n",
              "      <th>356</th>\n",
              "      <td>Gorkha</td>\n",
              "      <td>Gandaki</td>\n",
              "      <td>Hill</td>\n",
              "      <td>Western</td>\n",
              "      <td>2068/69</td>\n",
              "      <td>2011/12</td>\n",
              "      <td>Male</td>\n",
              "      <td>40-49</td>\n",
              "      <td>9368</td>\n",
              "    </tr>\n",
              "    <tr>\n",
              "      <th>357</th>\n",
              "      <td>Gorkha</td>\n",
              "      <td>Gandaki</td>\n",
              "      <td>Hill</td>\n",
              "      <td>Western</td>\n",
              "      <td>2068/69</td>\n",
              "      <td>2011/12</td>\n",
              "      <td>Male</td>\n",
              "      <td>50-59</td>\n",
              "      <td>10233</td>\n",
              "    </tr>\n",
              "    <tr>\n",
              "      <th>358</th>\n",
              "      <td>Gorkha</td>\n",
              "      <td>Gandaki</td>\n",
              "      <td>Hill</td>\n",
              "      <td>Western</td>\n",
              "      <td>2068/69</td>\n",
              "      <td>2011/12</td>\n",
              "      <td>Male</td>\n",
              "      <td>60-69</td>\n",
              "      <td>7531</td>\n",
              "    </tr>\n",
              "    <tr>\n",
              "      <th>359</th>\n",
              "      <td>Gorkha</td>\n",
              "      <td>Gandaki</td>\n",
              "      <td>Hill</td>\n",
              "      <td>Western</td>\n",
              "      <td>2068/69</td>\n",
              "      <td>2011/12</td>\n",
              "      <td>Male</td>\n",
              "      <td>70 years &amp; above</td>\n",
              "      <td>5550</td>\n",
              "    </tr>\n",
              "    <tr>\n",
              "      <th>360</th>\n",
              "      <td>Gorkha</td>\n",
              "      <td>Gandaki</td>\n",
              "      <td>Hill</td>\n",
              "      <td>Western</td>\n",
              "      <td>2068/69</td>\n",
              "      <td>2011/12</td>\n",
              "      <td>Female</td>\n",
              "      <td>10-14</td>\n",
              "      <td>48</td>\n",
              "    </tr>\n",
              "    <tr>\n",
              "      <th>361</th>\n",
              "      <td>Gorkha</td>\n",
              "      <td>Gandaki</td>\n",
              "      <td>Hill</td>\n",
              "      <td>Western</td>\n",
              "      <td>2068/69</td>\n",
              "      <td>2011/12</td>\n",
              "      <td>Female</td>\n",
              "      <td>15-19</td>\n",
              "      <td>430</td>\n",
              "    </tr>\n",
              "    <tr>\n",
              "      <th>362</th>\n",
              "      <td>Gorkha</td>\n",
              "      <td>Gandaki</td>\n",
              "      <td>Hill</td>\n",
              "      <td>Western</td>\n",
              "      <td>2068/69</td>\n",
              "      <td>2011/12</td>\n",
              "      <td>Female</td>\n",
              "      <td>20-29</td>\n",
              "      <td>5194</td>\n",
              "    </tr>\n",
              "    <tr>\n",
              "      <th>363</th>\n",
              "      <td>Gorkha</td>\n",
              "      <td>Gandaki</td>\n",
              "      <td>Hill</td>\n",
              "      <td>Western</td>\n",
              "      <td>2068/69</td>\n",
              "      <td>2011/12</td>\n",
              "      <td>Female</td>\n",
              "      <td>30-39</td>\n",
              "      <td>6555</td>\n",
              "    </tr>\n",
              "    <tr>\n",
              "      <th>364</th>\n",
              "      <td>Gorkha</td>\n",
              "      <td>Gandaki</td>\n",
              "      <td>Hill</td>\n",
              "      <td>Western</td>\n",
              "      <td>2068/69</td>\n",
              "      <td>2011/12</td>\n",
              "      <td>Female</td>\n",
              "      <td>40-49</td>\n",
              "      <td>4673</td>\n",
              "    </tr>\n",
              "    <tr>\n",
              "      <th>365</th>\n",
              "      <td>Gorkha</td>\n",
              "      <td>Gandaki</td>\n",
              "      <td>Hill</td>\n",
              "      <td>Western</td>\n",
              "      <td>2068/69</td>\n",
              "      <td>2011/12</td>\n",
              "      <td>Female</td>\n",
              "      <td>50-59</td>\n",
              "      <td>3182</td>\n",
              "    </tr>\n",
              "    <tr>\n",
              "      <th>366</th>\n",
              "      <td>Gorkha</td>\n",
              "      <td>Gandaki</td>\n",
              "      <td>Hill</td>\n",
              "      <td>Western</td>\n",
              "      <td>2068/69</td>\n",
              "      <td>2011/12</td>\n",
              "      <td>Female</td>\n",
              "      <td>60-69</td>\n",
              "      <td>2757</td>\n",
              "    </tr>\n",
              "    <tr>\n",
              "      <th>367</th>\n",
              "      <td>Gorkha</td>\n",
              "      <td>Gandaki</td>\n",
              "      <td>Hill</td>\n",
              "      <td>Western</td>\n",
              "      <td>2068/69</td>\n",
              "      <td>2011/12</td>\n",
              "      <td>Female</td>\n",
              "      <td>70 years &amp; above</td>\n",
              "      <td>1905</td>\n",
              "    </tr>\n",
              "    <tr>\n",
              "      <th>368</th>\n",
              "      <td>Gulmi</td>\n",
              "      <td>Lumbini</td>\n",
              "      <td>Hill</td>\n",
              "      <td>Western</td>\n",
              "      <td>2068/69</td>\n",
              "      <td>2011/12</td>\n",
              "      <td>Male</td>\n",
              "      <td>10-14</td>\n",
              "      <td>40</td>\n",
              "    </tr>\n",
              "    <tr>\n",
              "      <th>369</th>\n",
              "      <td>Gulmi</td>\n",
              "      <td>Lumbini</td>\n",
              "      <td>Hill</td>\n",
              "      <td>Western</td>\n",
              "      <td>2068/69</td>\n",
              "      <td>2011/12</td>\n",
              "      <td>Male</td>\n",
              "      <td>15-19</td>\n",
              "      <td>301</td>\n",
              "    </tr>\n",
              "    <tr>\n",
              "      <th>370</th>\n",
              "      <td>Gulmi</td>\n",
              "      <td>Lumbini</td>\n",
              "      <td>Hill</td>\n",
              "      <td>Western</td>\n",
              "      <td>2068/69</td>\n",
              "      <td>2011/12</td>\n",
              "      <td>Male</td>\n",
              "      <td>20-29</td>\n",
              "      <td>2205</td>\n",
              "    </tr>\n",
              "    <tr>\n",
              "      <th>371</th>\n",
              "      <td>Gulmi</td>\n",
              "      <td>Lumbini</td>\n",
              "      <td>Hill</td>\n",
              "      <td>Western</td>\n",
              "      <td>2068/69</td>\n",
              "      <td>2011/12</td>\n",
              "      <td>Male</td>\n",
              "      <td>30-39</td>\n",
              "      <td>5116</td>\n",
              "    </tr>\n",
              "    <tr>\n",
              "      <th>372</th>\n",
              "      <td>Gulmi</td>\n",
              "      <td>Lumbini</td>\n",
              "      <td>Hill</td>\n",
              "      <td>Western</td>\n",
              "      <td>2068/69</td>\n",
              "      <td>2011/12</td>\n",
              "      <td>Male</td>\n",
              "      <td>40-49</td>\n",
              "      <td>7768</td>\n",
              "    </tr>\n",
              "    <tr>\n",
              "      <th>373</th>\n",
              "      <td>Gulmi</td>\n",
              "      <td>Lumbini</td>\n",
              "      <td>Hill</td>\n",
              "      <td>Western</td>\n",
              "      <td>2068/69</td>\n",
              "      <td>2011/12</td>\n",
              "      <td>Male</td>\n",
              "      <td>50-59</td>\n",
              "      <td>9218</td>\n",
              "    </tr>\n",
              "    <tr>\n",
              "      <th>374</th>\n",
              "      <td>Gulmi</td>\n",
              "      <td>Lumbini</td>\n",
              "      <td>Hill</td>\n",
              "      <td>Western</td>\n",
              "      <td>2068/69</td>\n",
              "      <td>2011/12</td>\n",
              "      <td>Male</td>\n",
              "      <td>60-69</td>\n",
              "      <td>7753</td>\n",
              "    </tr>\n",
              "    <tr>\n",
              "      <th>375</th>\n",
              "      <td>Gulmi</td>\n",
              "      <td>Lumbini</td>\n",
              "      <td>Hill</td>\n",
              "      <td>Western</td>\n",
              "      <td>2068/69</td>\n",
              "      <td>2011/12</td>\n",
              "      <td>Male</td>\n",
              "      <td>70 years &amp; above</td>\n",
              "      <td>4899</td>\n",
              "    </tr>\n",
              "    <tr>\n",
              "      <th>376</th>\n",
              "      <td>Gulmi</td>\n",
              "      <td>Lumbini</td>\n",
              "      <td>Hill</td>\n",
              "      <td>Western</td>\n",
              "      <td>2068/69</td>\n",
              "      <td>2011/12</td>\n",
              "      <td>Female</td>\n",
              "      <td>10-14</td>\n",
              "      <td>41</td>\n",
              "    </tr>\n",
              "    <tr>\n",
              "      <th>377</th>\n",
              "      <td>Gulmi</td>\n",
              "      <td>Lumbini</td>\n",
              "      <td>Hill</td>\n",
              "      <td>Western</td>\n",
              "      <td>2068/69</td>\n",
              "      <td>2011/12</td>\n",
              "      <td>Female</td>\n",
              "      <td>15-19</td>\n",
              "      <td>453</td>\n",
              "    </tr>\n",
              "    <tr>\n",
              "      <th>378</th>\n",
              "      <td>Gulmi</td>\n",
              "      <td>Lumbini</td>\n",
              "      <td>Hill</td>\n",
              "      <td>Western</td>\n",
              "      <td>2068/69</td>\n",
              "      <td>2011/12</td>\n",
              "      <td>Female</td>\n",
              "      <td>20-29</td>\n",
              "      <td>5666</td>\n",
              "    </tr>\n",
              "    <tr>\n",
              "      <th>379</th>\n",
              "      <td>Gulmi</td>\n",
              "      <td>Lumbini</td>\n",
              "      <td>Hill</td>\n",
              "      <td>Western</td>\n",
              "      <td>2068/69</td>\n",
              "      <td>2011/12</td>\n",
              "      <td>Female</td>\n",
              "      <td>30-39</td>\n",
              "      <td>7702</td>\n",
              "    </tr>\n",
              "    <tr>\n",
              "      <th>380</th>\n",
              "      <td>Gulmi</td>\n",
              "      <td>Lumbini</td>\n",
              "      <td>Hill</td>\n",
              "      <td>Western</td>\n",
              "      <td>2068/69</td>\n",
              "      <td>2011/12</td>\n",
              "      <td>Female</td>\n",
              "      <td>40-49</td>\n",
              "      <td>5378</td>\n",
              "    </tr>\n",
              "    <tr>\n",
              "      <th>381</th>\n",
              "      <td>Gulmi</td>\n",
              "      <td>Lumbini</td>\n",
              "      <td>Hill</td>\n",
              "      <td>Western</td>\n",
              "      <td>2068/69</td>\n",
              "      <td>2011/12</td>\n",
              "      <td>Female</td>\n",
              "      <td>50-59</td>\n",
              "      <td>3623</td>\n",
              "    </tr>\n",
              "    <tr>\n",
              "      <th>382</th>\n",
              "      <td>Gulmi</td>\n",
              "      <td>Lumbini</td>\n",
              "      <td>Hill</td>\n",
              "      <td>Western</td>\n",
              "      <td>2068/69</td>\n",
              "      <td>2011/12</td>\n",
              "      <td>Female</td>\n",
              "      <td>60-69</td>\n",
              "      <td>3219</td>\n",
              "    </tr>\n",
              "    <tr>\n",
              "      <th>383</th>\n",
              "      <td>Gulmi</td>\n",
              "      <td>Lumbini</td>\n",
              "      <td>Hill</td>\n",
              "      <td>Western</td>\n",
              "      <td>2068/69</td>\n",
              "      <td>2011/12</td>\n",
              "      <td>Female</td>\n",
              "      <td>70 years &amp; above</td>\n",
              "      <td>1539</td>\n",
              "    </tr>\n",
              "  </tbody>\n",
              "</table>\n",
              "</div>"
            ],
            "text/plain": [
              "    District     Zone Ecological Belt Development Region Year (BS) Year (AD)  \\\n",
              "352   Gorkha  Gandaki            Hill            Western   2068/69   2011/12   \n",
              "353   Gorkha  Gandaki            Hill            Western   2068/69   2011/12   \n",
              "354   Gorkha  Gandaki            Hill            Western   2068/69   2011/12   \n",
              "355   Gorkha  Gandaki            Hill            Western   2068/69   2011/12   \n",
              "356   Gorkha  Gandaki            Hill            Western   2068/69   2011/12   \n",
              "357   Gorkha  Gandaki            Hill            Western   2068/69   2011/12   \n",
              "358   Gorkha  Gandaki            Hill            Western   2068/69   2011/12   \n",
              "359   Gorkha  Gandaki            Hill            Western   2068/69   2011/12   \n",
              "360   Gorkha  Gandaki            Hill            Western   2068/69   2011/12   \n",
              "361   Gorkha  Gandaki            Hill            Western   2068/69   2011/12   \n",
              "362   Gorkha  Gandaki            Hill            Western   2068/69   2011/12   \n",
              "363   Gorkha  Gandaki            Hill            Western   2068/69   2011/12   \n",
              "364   Gorkha  Gandaki            Hill            Western   2068/69   2011/12   \n",
              "365   Gorkha  Gandaki            Hill            Western   2068/69   2011/12   \n",
              "366   Gorkha  Gandaki            Hill            Western   2068/69   2011/12   \n",
              "367   Gorkha  Gandaki            Hill            Western   2068/69   2011/12   \n",
              "368    Gulmi  Lumbini            Hill            Western   2068/69   2011/12   \n",
              "369    Gulmi  Lumbini            Hill            Western   2068/69   2011/12   \n",
              "370    Gulmi  Lumbini            Hill            Western   2068/69   2011/12   \n",
              "371    Gulmi  Lumbini            Hill            Western   2068/69   2011/12   \n",
              "372    Gulmi  Lumbini            Hill            Western   2068/69   2011/12   \n",
              "373    Gulmi  Lumbini            Hill            Western   2068/69   2011/12   \n",
              "374    Gulmi  Lumbini            Hill            Western   2068/69   2011/12   \n",
              "375    Gulmi  Lumbini            Hill            Western   2068/69   2011/12   \n",
              "376    Gulmi  Lumbini            Hill            Western   2068/69   2011/12   \n",
              "377    Gulmi  Lumbini            Hill            Western   2068/69   2011/12   \n",
              "378    Gulmi  Lumbini            Hill            Western   2068/69   2011/12   \n",
              "379    Gulmi  Lumbini            Hill            Western   2068/69   2011/12   \n",
              "380    Gulmi  Lumbini            Hill            Western   2068/69   2011/12   \n",
              "381    Gulmi  Lumbini            Hill            Western   2068/69   2011/12   \n",
              "382    Gulmi  Lumbini            Hill            Western   2068/69   2011/12   \n",
              "383    Gulmi  Lumbini            Hill            Western   2068/69   2011/12   \n",
              "\n",
              "     Gender         Age-group  Value  \n",
              "352    Male             10-14     37  \n",
              "353    Male             15-19    292  \n",
              "354    Male             20-29   2629  \n",
              "355    Male             30-39   6122  \n",
              "356    Male             40-49   9368  \n",
              "357    Male             50-59  10233  \n",
              "358    Male             60-69   7531  \n",
              "359    Male  70 years & above   5550  \n",
              "360  Female             10-14     48  \n",
              "361  Female             15-19    430  \n",
              "362  Female             20-29   5194  \n",
              "363  Female             30-39   6555  \n",
              "364  Female             40-49   4673  \n",
              "365  Female             50-59   3182  \n",
              "366  Female             60-69   2757  \n",
              "367  Female  70 years & above   1905  \n",
              "368    Male             10-14     40  \n",
              "369    Male             15-19    301  \n",
              "370    Male             20-29   2205  \n",
              "371    Male             30-39   5116  \n",
              "372    Male             40-49   7768  \n",
              "373    Male             50-59   9218  \n",
              "374    Male             60-69   7753  \n",
              "375    Male  70 years & above   4899  \n",
              "376  Female             10-14     41  \n",
              "377  Female             15-19    453  \n",
              "378  Female             20-29   5666  \n",
              "379  Female             30-39   7702  \n",
              "380  Female             40-49   5378  \n",
              "381  Female             50-59   3623  \n",
              "382  Female             60-69   3219  \n",
              "383  Female  70 years & above   1539  "
            ]
          },
          "metadata": {
            "tags": []
          },
          "execution_count": 22
        }
      ]
    },
    {
      "cell_type": "markdown",
      "metadata": {
        "id": "blQvM8IozTg6",
        "colab_type": "text"
      },
      "source": [
        "### Find the name of the districs that ends with \"pur\""
      ]
    },
    {
      "cell_type": "code",
      "metadata": {
        "id": "2A20v9VrzTg7",
        "colab_type": "code",
        "outputId": "81dbbf50-03bf-48f3-d346-9e47076ea8c5",
        "colab": {
          "base_uri": "https://localhost:8080/",
          "height": 639
        }
      },
      "source": [
        "df[df[\"District\"].str.endswith(\"pur\")].head(20)"
      ],
      "execution_count": 23,
      "outputs": [
        {
          "output_type": "execute_result",
          "data": {
            "text/html": [
              "<div>\n",
              "<style scoped>\n",
              "    .dataframe tbody tr th:only-of-type {\n",
              "        vertical-align: middle;\n",
              "    }\n",
              "\n",
              "    .dataframe tbody tr th {\n",
              "        vertical-align: top;\n",
              "    }\n",
              "\n",
              "    .dataframe thead th {\n",
              "        text-align: right;\n",
              "    }\n",
              "</style>\n",
              "<table border=\"1\" class=\"dataframe\">\n",
              "  <thead>\n",
              "    <tr style=\"text-align: right;\">\n",
              "      <th></th>\n",
              "      <th>District</th>\n",
              "      <th>Zone</th>\n",
              "      <th>Ecological Belt</th>\n",
              "      <th>Development Region</th>\n",
              "      <th>Year (BS)</th>\n",
              "      <th>Year (AD)</th>\n",
              "      <th>Gender</th>\n",
              "      <th>Age-group</th>\n",
              "      <th>Value</th>\n",
              "    </tr>\n",
              "  </thead>\n",
              "  <tbody>\n",
              "    <tr>\n",
              "      <th>144</th>\n",
              "      <td>Bhaktapur</td>\n",
              "      <td>Bagmati</td>\n",
              "      <td>Hill</td>\n",
              "      <td>Central</td>\n",
              "      <td>2068/69</td>\n",
              "      <td>2011/12</td>\n",
              "      <td>Male</td>\n",
              "      <td>10-14</td>\n",
              "      <td>42</td>\n",
              "    </tr>\n",
              "    <tr>\n",
              "      <th>145</th>\n",
              "      <td>Bhaktapur</td>\n",
              "      <td>Bagmati</td>\n",
              "      <td>Hill</td>\n",
              "      <td>Central</td>\n",
              "      <td>2068/69</td>\n",
              "      <td>2011/12</td>\n",
              "      <td>Male</td>\n",
              "      <td>15-19</td>\n",
              "      <td>744</td>\n",
              "    </tr>\n",
              "    <tr>\n",
              "      <th>146</th>\n",
              "      <td>Bhaktapur</td>\n",
              "      <td>Bagmati</td>\n",
              "      <td>Hill</td>\n",
              "      <td>Central</td>\n",
              "      <td>2068/69</td>\n",
              "      <td>2011/12</td>\n",
              "      <td>Male</td>\n",
              "      <td>20-29</td>\n",
              "      <td>7808</td>\n",
              "    </tr>\n",
              "    <tr>\n",
              "      <th>147</th>\n",
              "      <td>Bhaktapur</td>\n",
              "      <td>Bagmati</td>\n",
              "      <td>Hill</td>\n",
              "      <td>Central</td>\n",
              "      <td>2068/69</td>\n",
              "      <td>2011/12</td>\n",
              "      <td>Male</td>\n",
              "      <td>30-39</td>\n",
              "      <td>13918</td>\n",
              "    </tr>\n",
              "    <tr>\n",
              "      <th>148</th>\n",
              "      <td>Bhaktapur</td>\n",
              "      <td>Bagmati</td>\n",
              "      <td>Hill</td>\n",
              "      <td>Central</td>\n",
              "      <td>2068/69</td>\n",
              "      <td>2011/12</td>\n",
              "      <td>Male</td>\n",
              "      <td>40-49</td>\n",
              "      <td>13770</td>\n",
              "    </tr>\n",
              "    <tr>\n",
              "      <th>149</th>\n",
              "      <td>Bhaktapur</td>\n",
              "      <td>Bagmati</td>\n",
              "      <td>Hill</td>\n",
              "      <td>Central</td>\n",
              "      <td>2068/69</td>\n",
              "      <td>2011/12</td>\n",
              "      <td>Male</td>\n",
              "      <td>50-59</td>\n",
              "      <td>8553</td>\n",
              "    </tr>\n",
              "    <tr>\n",
              "      <th>150</th>\n",
              "      <td>Bhaktapur</td>\n",
              "      <td>Bagmati</td>\n",
              "      <td>Hill</td>\n",
              "      <td>Central</td>\n",
              "      <td>2068/69</td>\n",
              "      <td>2011/12</td>\n",
              "      <td>Male</td>\n",
              "      <td>60-69</td>\n",
              "      <td>5211</td>\n",
              "    </tr>\n",
              "    <tr>\n",
              "      <th>151</th>\n",
              "      <td>Bhaktapur</td>\n",
              "      <td>Bagmati</td>\n",
              "      <td>Hill</td>\n",
              "      <td>Central</td>\n",
              "      <td>2068/69</td>\n",
              "      <td>2011/12</td>\n",
              "      <td>Male</td>\n",
              "      <td>70 years &amp; above</td>\n",
              "      <td>3359</td>\n",
              "    </tr>\n",
              "    <tr>\n",
              "      <th>152</th>\n",
              "      <td>Bhaktapur</td>\n",
              "      <td>Bagmati</td>\n",
              "      <td>Hill</td>\n",
              "      <td>Central</td>\n",
              "      <td>2068/69</td>\n",
              "      <td>2011/12</td>\n",
              "      <td>Female</td>\n",
              "      <td>10-14</td>\n",
              "      <td>24</td>\n",
              "    </tr>\n",
              "    <tr>\n",
              "      <th>153</th>\n",
              "      <td>Bhaktapur</td>\n",
              "      <td>Bagmati</td>\n",
              "      <td>Hill</td>\n",
              "      <td>Central</td>\n",
              "      <td>2068/69</td>\n",
              "      <td>2011/12</td>\n",
              "      <td>Female</td>\n",
              "      <td>15-19</td>\n",
              "      <td>375</td>\n",
              "    </tr>\n",
              "    <tr>\n",
              "      <th>154</th>\n",
              "      <td>Bhaktapur</td>\n",
              "      <td>Bagmati</td>\n",
              "      <td>Hill</td>\n",
              "      <td>Central</td>\n",
              "      <td>2068/69</td>\n",
              "      <td>2011/12</td>\n",
              "      <td>Female</td>\n",
              "      <td>20-29</td>\n",
              "      <td>3788</td>\n",
              "    </tr>\n",
              "    <tr>\n",
              "      <th>155</th>\n",
              "      <td>Bhaktapur</td>\n",
              "      <td>Bagmati</td>\n",
              "      <td>Hill</td>\n",
              "      <td>Central</td>\n",
              "      <td>2068/69</td>\n",
              "      <td>2011/12</td>\n",
              "      <td>Female</td>\n",
              "      <td>30-39</td>\n",
              "      <td>3850</td>\n",
              "    </tr>\n",
              "    <tr>\n",
              "      <th>156</th>\n",
              "      <td>Bhaktapur</td>\n",
              "      <td>Bagmati</td>\n",
              "      <td>Hill</td>\n",
              "      <td>Central</td>\n",
              "      <td>2068/69</td>\n",
              "      <td>2011/12</td>\n",
              "      <td>Female</td>\n",
              "      <td>40-49</td>\n",
              "      <td>2437</td>\n",
              "    </tr>\n",
              "    <tr>\n",
              "      <th>157</th>\n",
              "      <td>Bhaktapur</td>\n",
              "      <td>Bagmati</td>\n",
              "      <td>Hill</td>\n",
              "      <td>Central</td>\n",
              "      <td>2068/69</td>\n",
              "      <td>2011/12</td>\n",
              "      <td>Female</td>\n",
              "      <td>50-59</td>\n",
              "      <td>1786</td>\n",
              "    </tr>\n",
              "    <tr>\n",
              "      <th>158</th>\n",
              "      <td>Bhaktapur</td>\n",
              "      <td>Bagmati</td>\n",
              "      <td>Hill</td>\n",
              "      <td>Central</td>\n",
              "      <td>2068/69</td>\n",
              "      <td>2011/12</td>\n",
              "      <td>Female</td>\n",
              "      <td>60-69</td>\n",
              "      <td>1738</td>\n",
              "    </tr>\n",
              "    <tr>\n",
              "      <th>159</th>\n",
              "      <td>Bhaktapur</td>\n",
              "      <td>Bagmati</td>\n",
              "      <td>Hill</td>\n",
              "      <td>Central</td>\n",
              "      <td>2068/69</td>\n",
              "      <td>2011/12</td>\n",
              "      <td>Female</td>\n",
              "      <td>70 years &amp; above</td>\n",
              "      <td>1233</td>\n",
              "    </tr>\n",
              "    <tr>\n",
              "      <th>160</th>\n",
              "      <td>Bhojpur</td>\n",
              "      <td>Kosi</td>\n",
              "      <td>Hill</td>\n",
              "      <td>Eastern</td>\n",
              "      <td>2068/69</td>\n",
              "      <td>2011/12</td>\n",
              "      <td>Male</td>\n",
              "      <td>10-14</td>\n",
              "      <td>23</td>\n",
              "    </tr>\n",
              "    <tr>\n",
              "      <th>161</th>\n",
              "      <td>Bhojpur</td>\n",
              "      <td>Kosi</td>\n",
              "      <td>Hill</td>\n",
              "      <td>Eastern</td>\n",
              "      <td>2068/69</td>\n",
              "      <td>2011/12</td>\n",
              "      <td>Male</td>\n",
              "      <td>15-19</td>\n",
              "      <td>183</td>\n",
              "    </tr>\n",
              "    <tr>\n",
              "      <th>162</th>\n",
              "      <td>Bhojpur</td>\n",
              "      <td>Kosi</td>\n",
              "      <td>Hill</td>\n",
              "      <td>Eastern</td>\n",
              "      <td>2068/69</td>\n",
              "      <td>2011/12</td>\n",
              "      <td>Male</td>\n",
              "      <td>20-29</td>\n",
              "      <td>2345</td>\n",
              "    </tr>\n",
              "    <tr>\n",
              "      <th>163</th>\n",
              "      <td>Bhojpur</td>\n",
              "      <td>Kosi</td>\n",
              "      <td>Hill</td>\n",
              "      <td>Eastern</td>\n",
              "      <td>2068/69</td>\n",
              "      <td>2011/12</td>\n",
              "      <td>Male</td>\n",
              "      <td>30-39</td>\n",
              "      <td>4942</td>\n",
              "    </tr>\n",
              "  </tbody>\n",
              "</table>\n",
              "</div>"
            ],
            "text/plain": [
              "      District     Zone Ecological Belt Development Region Year (BS)  \\\n",
              "144  Bhaktapur  Bagmati            Hill            Central   2068/69   \n",
              "145  Bhaktapur  Bagmati            Hill            Central   2068/69   \n",
              "146  Bhaktapur  Bagmati            Hill            Central   2068/69   \n",
              "147  Bhaktapur  Bagmati            Hill            Central   2068/69   \n",
              "148  Bhaktapur  Bagmati            Hill            Central   2068/69   \n",
              "149  Bhaktapur  Bagmati            Hill            Central   2068/69   \n",
              "150  Bhaktapur  Bagmati            Hill            Central   2068/69   \n",
              "151  Bhaktapur  Bagmati            Hill            Central   2068/69   \n",
              "152  Bhaktapur  Bagmati            Hill            Central   2068/69   \n",
              "153  Bhaktapur  Bagmati            Hill            Central   2068/69   \n",
              "154  Bhaktapur  Bagmati            Hill            Central   2068/69   \n",
              "155  Bhaktapur  Bagmati            Hill            Central   2068/69   \n",
              "156  Bhaktapur  Bagmati            Hill            Central   2068/69   \n",
              "157  Bhaktapur  Bagmati            Hill            Central   2068/69   \n",
              "158  Bhaktapur  Bagmati            Hill            Central   2068/69   \n",
              "159  Bhaktapur  Bagmati            Hill            Central   2068/69   \n",
              "160    Bhojpur     Kosi            Hill            Eastern   2068/69   \n",
              "161    Bhojpur     Kosi            Hill            Eastern   2068/69   \n",
              "162    Bhojpur     Kosi            Hill            Eastern   2068/69   \n",
              "163    Bhojpur     Kosi            Hill            Eastern   2068/69   \n",
              "\n",
              "    Year (AD)  Gender         Age-group  Value  \n",
              "144   2011/12    Male             10-14     42  \n",
              "145   2011/12    Male             15-19    744  \n",
              "146   2011/12    Male             20-29   7808  \n",
              "147   2011/12    Male             30-39  13918  \n",
              "148   2011/12    Male             40-49  13770  \n",
              "149   2011/12    Male             50-59   8553  \n",
              "150   2011/12    Male             60-69   5211  \n",
              "151   2011/12    Male  70 years & above   3359  \n",
              "152   2011/12  Female             10-14     24  \n",
              "153   2011/12  Female             15-19    375  \n",
              "154   2011/12  Female             20-29   3788  \n",
              "155   2011/12  Female             30-39   3850  \n",
              "156   2011/12  Female             40-49   2437  \n",
              "157   2011/12  Female             50-59   1786  \n",
              "158   2011/12  Female             60-69   1738  \n",
              "159   2011/12  Female  70 years & above   1233  \n",
              "160   2011/12    Male             10-14     23  \n",
              "161   2011/12    Male             15-19    183  \n",
              "162   2011/12    Male             20-29   2345  \n",
              "163   2011/12    Male             30-39   4942  "
            ]
          },
          "metadata": {
            "tags": []
          },
          "execution_count": 23
        }
      ]
    },
    {
      "cell_type": "markdown",
      "metadata": {
        "id": "NmB_X-M5zTg_",
        "colab_type": "text"
      },
      "source": [
        "\n",
        "### Plot Population of each development region"
      ]
    },
    {
      "cell_type": "code",
      "metadata": {
        "id": "ZhEPFMIjzThA",
        "colab_type": "code",
        "outputId": "83ff3611-0d82-431b-8143-2289a1cebbd3",
        "colab": {
          "base_uri": "https://localhost:8080/",
          "height": 366
        }
      },
      "source": [
        "df.groupby(by = \"Development Region\")[\"Value\"].sum().plot(kind = \"bar\")\n",
        "plt.ylabel(\"Population\")\n",
        "plt.title(\"Population Distribution Across Development Regions(2068-69)\")"
      ],
      "execution_count": 24,
      "outputs": [
        {
          "output_type": "execute_result",
          "data": {
            "text/plain": [
              "Text(0.5, 1.0, 'Population Distribution Across Development Regions(2068-69)')"
            ]
          },
          "metadata": {
            "tags": []
          },
          "execution_count": 24
        },
        {
          "output_type": "display_data",
          "data": {
            "image/png": "[encoded data removed]",
            "text/plain": [
              "<Figure size 432x288 with 1 Axes>"
            ]
          },
          "metadata": {
            "tags": []
          }
        }
      ]
    },
    {
      "cell_type": "markdown",
      "metadata": {
        "id": "4zQ6CDIZzThC",
        "colab_type": "text"
      },
      "source": [
        "### Plot Male Population and Female Population"
      ]
    },
    {
      "cell_type": "code",
      "metadata": {
        "id": "O4s8lmxazThE",
        "colab_type": "code",
        "outputId": "a32a45d8-69d9-44b3-82e1-23e4e2592fd7",
        "colab": {
          "base_uri": "https://localhost:8080/",
          "height": 272
        }
      },
      "source": [
        "df.groupby(by = \"Gender\")[\"Value\"].sum().plot(kind = \"pie\")\n",
        "plt.gca().legend((\"Female\", \"Male\"))"
      ],
      "execution_count": 25,
      "outputs": [
        {
          "output_type": "execute_result",
          "data": {
            "text/plain": [
              "<matplotlib.legend.Legend at 0x7f4fe5870a58>"
            ]
          },
          "metadata": {
            "tags": []
          },
          "execution_count": 25
        },
        {
          "output_type": "display_data",
          "data": {
            "image/png": "[encoded data removed]",
            "text/plain": [
              "<Figure size 432x288 with 1 Axes>"
            ]
          },
          "metadata": {
            "tags": []
          }
        }
      ]
    },
    {
      "cell_type": "markdown",
      "metadata": {
        "id": "M6cXH2ijzZPP",
        "colab_type": "text"
      },
      "source": [
        "## Plot population distribution by age"
      ]
    },
    {
      "cell_type": "code",
      "metadata": {
        "id": "vy47ssJhzThK",
        "colab_type": "code",
        "outputId": "d9c7a47e-4d34-49fe-a17c-a798e86dbcdb",
        "colab": {
          "base_uri": "https://localhost:8080/",
          "height": 390
        }
      },
      "source": [
        "df_popn_age= df.groupby(by = \"Age-group\").agg({\"Value\" : \"sum\"})\n",
        "df_popn_age[\"Age-group\"] = df[\"Age-group\"].unique()\n",
        "\n",
        "df_popn_age.plot(\"Age-group\", \"Value\", kind = \"bar\")\n",
        "plt.ylabel(\"Population\")\n",
        "plt.title(\"Population Distribution by Age\")\n"
      ],
      "execution_count": 26,
      "outputs": [
        {
          "output_type": "execute_result",
          "data": {
            "text/plain": [
              "Text(0.5, 1.0, 'Population Distribution by Age')"
            ]
          },
          "metadata": {
            "tags": []
          },
          "execution_count": 26
        },
        {
          "output_type": "display_data",
          "data": {
            "image/png": "[encoded data removed]",
            "text/plain": [
              "<Figure size 432x288 with 1 Axes>"
            ]
          },
          "metadata": {
            "tags": []
          }
        }
      ]
    },
    {
      "cell_type": "markdown",
      "metadata": {
        "id": "6NjPFqqA4vyP",
        "colab_type": "text"
      },
      "source": [
        "# Compare Population by age group of Gulmi district and Kavrepalanchok\n"
      ]
    },
    {
      "cell_type": "code",
      "metadata": {
        "id": "j2CpO6kCzihI",
        "colab_type": "code",
        "outputId": "3de48895-d4c6-4bf2-ec51-4a3afe6e3e37",
        "colab": {
          "base_uri": "https://localhost:8080/",
          "height": 389
        }
      },
      "source": [
        "df_gulmi = df[df[\"District\"] == \"Gulmi\"]\n",
        "df_kavrepalanchok = df[df[\"District\"] == \"Kavrepalanchok\"]\n",
        "\n",
        "fig, axes = plt.subplots(1, 2, sharey= True,figsize = (18, 5))\n",
        "df_gulmi= df_gulmi.groupby(by = \"Age-group\").agg({\"Value\" : \"sum\"})\n",
        "\n",
        "df_gulmi[\"Age-group\"] = df[\"Age-group\"].unique()\n",
        "\n",
        "axes[0].bar(df_gulmi[\"Age-group\"], df_gulmi[\"Value\"], color = \"green\")\n",
        "axes[0].set_title(\"Population Distribution by Age of Gulmi District\")\n",
        "\n",
        "df_kavrepalanchok= df_kavrepalanchok.groupby(by = \"Age-group\").agg({\"Value\" : \"sum\"})\n",
        "df_kavrepalanchok[\"Age-group\"] = df[\"Age-group\"].unique()\n",
        "axes[1].bar(df_kavrepalanchok[\"Age-group\"], df_kavrepalanchok[\"Value\"])\n",
        "axes[1].set_title(\"Population Distribution by Age of Kavrepalanchok District\")\n",
        "axes[0].set_ylabel(\"Population\")\n",
        "\n",
        "# Prevent Overlapping between ticks\n",
        "plt.tight_layout()"
      ],
      "execution_count": 28,
      "outputs": [
        {
          "output_type": "display_data",
          "data": {
            "image/png": "[encoded data removed]",
            "text/plain": [
              "<Figure size 1296x360 with 2 Axes>"
            ]
          },
          "metadata": {
            "tags": []
          }
        }
      ]
    },
    {
      "cell_type": "code",
      "metadata": {
        "id": "zgId0jui0p1b",
        "colab_type": "code",
        "colab": {}
      },
      "source": [
        ""
      ],
      "execution_count": 0,
      "outputs": []
    }
  ]
}